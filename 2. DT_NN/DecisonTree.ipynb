{
 "cells": [
  {
   "cell_type": "markdown",
   "id": "4ac77bb4",
   "metadata": {},
   "source": [
    "DecisionTree"
   ]
  },
  {
   "cell_type": "markdown",
   "id": "d3f3ef2c",
   "metadata": {},
   "source": [
    "\n",
    "\n",
    "1) Load Gender_Classifier.csv .Output/prediction variable is 'gender' \n",
    "\n",
    "2) Create a dataframe and print the first and last seven records of your dataset.  \n",
    "\n",
    "3) Print the class labels. \n",
    "\n",
    "4) Split your dataset 60% for training, 20 for validation and 20% for testing the classifier. Use random state as 2022 "
   ]
  },
  {
   "cell_type": "markdown",
   "id": "eb32abbb",
   "metadata": {},
   "source": [
    "### DecisionTree \n",
    "1) Use gini and entropy to measure the quality of a split. \n",
    "\n",
    "2) Use comments to explain your code and variable names. \n",
    "\n",
    "3) Calculate and print the confusion matrix (use graphics instead showing a 2D array), and the classification Report (includes: precision, recall, f1-score, and support. Explain the confusion matrix and classification report in your own words). Do not copy from the internet.\n",
    "\n",
    "4) Print the decision tree visualization for 3 different depths using given libraries.  "
   ]
  },
  {
   "cell_type": "markdown",
   "id": "c72eca84",
   "metadata": {},
   "source": [
    "# Naive Bayes \n",
    "\n",
    "1) Use all types of Naive bayes classifier present in the sklearn to predict the test data. If you are not able to implement any of the classifier explain in detail why it can't be done.\n",
    "\n",
    "2) Use comments to explain your code and variable names\n",
    "\n",
    "3) Calculate and print the confusion matrix (use graphics instead showing a 2D array), and the classification Report (includes: precision, recall, f1-score, and support)for all the NB Classifier. show the best classifier. Explain the classification report in your own words. Do not copy from the internet. "
   ]
  },
  {
   "cell_type": "markdown",
   "id": "ac6b41e8",
   "metadata": {},
   "source": [
    "\n",
    "\n",
    "1) Describe the Decision Tree methods\n",
    "\n",
    "2) Describe the datasets like what do you understand from the dataset? and if you have done any pre-processing , and your code.\n",
    "\n",
    "4) Visualization of the decision tree for gini and entropy.\n",
    "\n",
    "5) Interpret your results, compare gini and entropy \n",
    "\n",
    "6) Visualize the dataset, for the target variable - 2 graphs\n",
    "\n"
   ]
  },
  {
   "cell_type": "markdown",
   "id": "7f5ba35f",
   "metadata": {},
   "source": [
    "# 1) Load Gender_Classifier.csv .Output/prediction variable is 'gender' "
   ]
  },
  {
   "cell_type": "code",
   "execution_count": 1,
   "id": "723d32f2",
   "metadata": {},
   "outputs": [],
   "source": [
    "#importing libraries\n",
    "import pandas as pd \n",
    "from sklearn.model_selection import train_test_split\n",
    "import numpy as np\n",
    "import matplotlib.pyplot as plt # data visualization\n",
    "import seaborn as sns # statistical data visualization\n",
    "%matplotlib inline"
   ]
  },
  {
   "cell_type": "code",
   "execution_count": 2,
   "id": "02dddbfd",
   "metadata": {},
   "outputs": [],
   "source": [
    "dataset1= pd.read_csv('C:/Users/Anu/Downloads/PA2 (1)/Gender_Classifier.csv',encoding='latin1')"
   ]
  },
  {
   "cell_type": "markdown",
   "id": "13812bb9",
   "metadata": {},
   "source": [
    "# 2) Create a dataframe and print the first and last seven records of your dataset."
   ]
  },
  {
   "cell_type": "code",
   "execution_count": 3,
   "id": "c0a277d6",
   "metadata": {},
   "outputs": [
    {
     "data": {
      "text/html": [
       "<div>\n",
       "<style scoped>\n",
       "    .dataframe tbody tr th:only-of-type {\n",
       "        vertical-align: middle;\n",
       "    }\n",
       "\n",
       "    .dataframe tbody tr th {\n",
       "        vertical-align: top;\n",
       "    }\n",
       "\n",
       "    .dataframe thead th {\n",
       "        text-align: right;\n",
       "    }\n",
       "</style>\n",
       "<table border=\"1\" class=\"dataframe\">\n",
       "  <thead>\n",
       "    <tr style=\"text-align: right;\">\n",
       "      <th></th>\n",
       "      <th>_unit_id</th>\n",
       "      <th>_golden</th>\n",
       "      <th>_unit_state</th>\n",
       "      <th>_trusted_judgments</th>\n",
       "      <th>_last_judgment_at</th>\n",
       "      <th>gender</th>\n",
       "      <th>gender:confidence</th>\n",
       "      <th>profile_yn</th>\n",
       "      <th>profile_yn:confidence</th>\n",
       "      <th>created</th>\n",
       "      <th>...</th>\n",
       "      <th>profileimage</th>\n",
       "      <th>retweet_count</th>\n",
       "      <th>sidebar_color</th>\n",
       "      <th>text</th>\n",
       "      <th>tweet_coord</th>\n",
       "      <th>tweet_count</th>\n",
       "      <th>tweet_created</th>\n",
       "      <th>tweet_id</th>\n",
       "      <th>tweet_location</th>\n",
       "      <th>user_timezone</th>\n",
       "    </tr>\n",
       "  </thead>\n",
       "  <tbody>\n",
       "    <tr>\n",
       "      <th>0</th>\n",
       "      <td>815719226</td>\n",
       "      <td>False</td>\n",
       "      <td>finalized</td>\n",
       "      <td>3</td>\n",
       "      <td>10/26/2015 23:24</td>\n",
       "      <td>male</td>\n",
       "      <td>1.0000</td>\n",
       "      <td>yes</td>\n",
       "      <td>1.0</td>\n",
       "      <td>12/5/2013 1:48</td>\n",
       "      <td>...</td>\n",
       "      <td>https://pbs.twimg.com/profile_images/414342229...</td>\n",
       "      <td>0</td>\n",
       "      <td>FFFFFF</td>\n",
       "      <td>Robbie E Responds To Critics After Win Against...</td>\n",
       "      <td>NaN</td>\n",
       "      <td>110964</td>\n",
       "      <td>10/26/2015 12:40</td>\n",
       "      <td>6.590000e+17</td>\n",
       "      <td>main; @Kan1shk3</td>\n",
       "      <td>Chennai</td>\n",
       "    </tr>\n",
       "    <tr>\n",
       "      <th>1</th>\n",
       "      <td>815719227</td>\n",
       "      <td>False</td>\n",
       "      <td>finalized</td>\n",
       "      <td>3</td>\n",
       "      <td>10/26/2015 23:30</td>\n",
       "      <td>male</td>\n",
       "      <td>1.0000</td>\n",
       "      <td>yes</td>\n",
       "      <td>1.0</td>\n",
       "      <td>10/1/2012 13:51</td>\n",
       "      <td>...</td>\n",
       "      <td>https://pbs.twimg.com/profile_images/539604221...</td>\n",
       "      <td>0</td>\n",
       "      <td>C0DEED</td>\n",
       "      <td>ÛÏIt felt like they were my friends and I was...</td>\n",
       "      <td>NaN</td>\n",
       "      <td>7471</td>\n",
       "      <td>10/26/2015 12:40</td>\n",
       "      <td>6.590000e+17</td>\n",
       "      <td>NaN</td>\n",
       "      <td>Eastern Time (US &amp; Canada)</td>\n",
       "    </tr>\n",
       "    <tr>\n",
       "      <th>2</th>\n",
       "      <td>815719228</td>\n",
       "      <td>False</td>\n",
       "      <td>finalized</td>\n",
       "      <td>3</td>\n",
       "      <td>10/26/2015 23:33</td>\n",
       "      <td>male</td>\n",
       "      <td>0.6625</td>\n",
       "      <td>yes</td>\n",
       "      <td>1.0</td>\n",
       "      <td>11/28/2014 11:30</td>\n",
       "      <td>...</td>\n",
       "      <td>https://pbs.twimg.com/profile_images/657330418...</td>\n",
       "      <td>1</td>\n",
       "      <td>C0DEED</td>\n",
       "      <td>i absolutely adore when louis starts the songs...</td>\n",
       "      <td>NaN</td>\n",
       "      <td>5617</td>\n",
       "      <td>10/26/2015 12:40</td>\n",
       "      <td>6.590000e+17</td>\n",
       "      <td>clcncl</td>\n",
       "      <td>Belgrade</td>\n",
       "    </tr>\n",
       "    <tr>\n",
       "      <th>3</th>\n",
       "      <td>815719229</td>\n",
       "      <td>False</td>\n",
       "      <td>finalized</td>\n",
       "      <td>3</td>\n",
       "      <td>10/26/2015 23:10</td>\n",
       "      <td>male</td>\n",
       "      <td>1.0000</td>\n",
       "      <td>yes</td>\n",
       "      <td>1.0</td>\n",
       "      <td>6/11/2009 22:39</td>\n",
       "      <td>...</td>\n",
       "      <td>https://pbs.twimg.com/profile_images/259703936...</td>\n",
       "      <td>0</td>\n",
       "      <td>C0DEED</td>\n",
       "      <td>Hi @JordanSpieth - Looking at the url - do you...</td>\n",
       "      <td>NaN</td>\n",
       "      <td>1693</td>\n",
       "      <td>10/26/2015 12:40</td>\n",
       "      <td>6.590000e+17</td>\n",
       "      <td>Palo Alto, CA</td>\n",
       "      <td>Pacific Time (US &amp; Canada)</td>\n",
       "    </tr>\n",
       "    <tr>\n",
       "      <th>4</th>\n",
       "      <td>815719230</td>\n",
       "      <td>False</td>\n",
       "      <td>finalized</td>\n",
       "      <td>3</td>\n",
       "      <td>10/27/2015 1:15</td>\n",
       "      <td>female</td>\n",
       "      <td>1.0000</td>\n",
       "      <td>yes</td>\n",
       "      <td>1.0</td>\n",
       "      <td>4/16/2014 13:23</td>\n",
       "      <td>...</td>\n",
       "      <td>https://pbs.twimg.com/profile_images/564094871...</td>\n",
       "      <td>0</td>\n",
       "      <td>0</td>\n",
       "      <td>Watching Neighbours on Sky+ catching up with t...</td>\n",
       "      <td>NaN</td>\n",
       "      <td>31462</td>\n",
       "      <td>10/26/2015 12:40</td>\n",
       "      <td>6.590000e+17</td>\n",
       "      <td>NaN</td>\n",
       "      <td>NaN</td>\n",
       "    </tr>\n",
       "    <tr>\n",
       "      <th>5</th>\n",
       "      <td>815719231</td>\n",
       "      <td>False</td>\n",
       "      <td>finalized</td>\n",
       "      <td>3</td>\n",
       "      <td>10/27/2015 1:47</td>\n",
       "      <td>female</td>\n",
       "      <td>1.0000</td>\n",
       "      <td>yes</td>\n",
       "      <td>1.0</td>\n",
       "      <td>3/11/2010 18:14</td>\n",
       "      <td>...</td>\n",
       "      <td>https://pbs.twimg.com/profile_images/656336865...</td>\n",
       "      <td>0</td>\n",
       "      <td>0</td>\n",
       "      <td>Ive seen people on the train with lamps, chair...</td>\n",
       "      <td>NaN</td>\n",
       "      <td>20036</td>\n",
       "      <td>10/26/2015 12:40</td>\n",
       "      <td>6.590000e+17</td>\n",
       "      <td>New York Gritty</td>\n",
       "      <td>Central Time (US &amp; Canada)</td>\n",
       "    </tr>\n",
       "    <tr>\n",
       "      <th>6</th>\n",
       "      <td>815719232</td>\n",
       "      <td>False</td>\n",
       "      <td>finalized</td>\n",
       "      <td>3</td>\n",
       "      <td>10/27/2015 1:57</td>\n",
       "      <td>brand</td>\n",
       "      <td>1.0000</td>\n",
       "      <td>yes</td>\n",
       "      <td>1.0</td>\n",
       "      <td>4/24/2008 13:03</td>\n",
       "      <td>...</td>\n",
       "      <td>https://pbs.twimg.com/profile_images/528547133...</td>\n",
       "      <td>0</td>\n",
       "      <td>0</td>\n",
       "      <td>@BpackEngineer Thank you for your patience whi...</td>\n",
       "      <td>NaN</td>\n",
       "      <td>13354</td>\n",
       "      <td>10/26/2015 12:40</td>\n",
       "      <td>6.590000e+17</td>\n",
       "      <td>Worldwide</td>\n",
       "      <td>Eastern Time (US &amp; Canada)</td>\n",
       "    </tr>\n",
       "  </tbody>\n",
       "</table>\n",
       "<p>7 rows × 26 columns</p>\n",
       "</div>"
      ],
      "text/plain": [
       "    _unit_id  _golden _unit_state  _trusted_judgments _last_judgment_at  \\\n",
       "0  815719226    False   finalized                   3  10/26/2015 23:24   \n",
       "1  815719227    False   finalized                   3  10/26/2015 23:30   \n",
       "2  815719228    False   finalized                   3  10/26/2015 23:33   \n",
       "3  815719229    False   finalized                   3  10/26/2015 23:10   \n",
       "4  815719230    False   finalized                   3   10/27/2015 1:15   \n",
       "5  815719231    False   finalized                   3   10/27/2015 1:47   \n",
       "6  815719232    False   finalized                   3   10/27/2015 1:57   \n",
       "\n",
       "   gender  gender:confidence profile_yn  profile_yn:confidence  \\\n",
       "0    male             1.0000        yes                    1.0   \n",
       "1    male             1.0000        yes                    1.0   \n",
       "2    male             0.6625        yes                    1.0   \n",
       "3    male             1.0000        yes                    1.0   \n",
       "4  female             1.0000        yes                    1.0   \n",
       "5  female             1.0000        yes                    1.0   \n",
       "6   brand             1.0000        yes                    1.0   \n",
       "\n",
       "            created  ...                                       profileimage  \\\n",
       "0    12/5/2013 1:48  ...  https://pbs.twimg.com/profile_images/414342229...   \n",
       "1   10/1/2012 13:51  ...  https://pbs.twimg.com/profile_images/539604221...   \n",
       "2  11/28/2014 11:30  ...  https://pbs.twimg.com/profile_images/657330418...   \n",
       "3   6/11/2009 22:39  ...  https://pbs.twimg.com/profile_images/259703936...   \n",
       "4   4/16/2014 13:23  ...  https://pbs.twimg.com/profile_images/564094871...   \n",
       "5   3/11/2010 18:14  ...  https://pbs.twimg.com/profile_images/656336865...   \n",
       "6   4/24/2008 13:03  ...  https://pbs.twimg.com/profile_images/528547133...   \n",
       "\n",
       "   retweet_count sidebar_color  \\\n",
       "0              0        FFFFFF   \n",
       "1              0        C0DEED   \n",
       "2              1        C0DEED   \n",
       "3              0        C0DEED   \n",
       "4              0             0   \n",
       "5              0             0   \n",
       "6              0             0   \n",
       "\n",
       "                                                text tweet_coord tweet_count  \\\n",
       "0  Robbie E Responds To Critics After Win Against...         NaN      110964   \n",
       "1  ÛÏIt felt like they were my friends and I was...         NaN        7471   \n",
       "2  i absolutely adore when louis starts the songs...         NaN        5617   \n",
       "3  Hi @JordanSpieth - Looking at the url - do you...         NaN        1693   \n",
       "4  Watching Neighbours on Sky+ catching up with t...         NaN       31462   \n",
       "5  Ive seen people on the train with lamps, chair...         NaN       20036   \n",
       "6  @BpackEngineer Thank you for your patience whi...         NaN       13354   \n",
       "\n",
       "      tweet_created      tweet_id   tweet_location               user_timezone  \n",
       "0  10/26/2015 12:40  6.590000e+17  main; @Kan1shk3                     Chennai  \n",
       "1  10/26/2015 12:40  6.590000e+17              NaN  Eastern Time (US & Canada)  \n",
       "2  10/26/2015 12:40  6.590000e+17           clcncl                    Belgrade  \n",
       "3  10/26/2015 12:40  6.590000e+17    Palo Alto, CA  Pacific Time (US & Canada)  \n",
       "4  10/26/2015 12:40  6.590000e+17              NaN                         NaN  \n",
       "5  10/26/2015 12:40  6.590000e+17  New York Gritty  Central Time (US & Canada)  \n",
       "6  10/26/2015 12:40  6.590000e+17        Worldwide  Eastern Time (US & Canada)  \n",
       "\n",
       "[7 rows x 26 columns]"
      ]
     },
     "execution_count": 3,
     "metadata": {},
     "output_type": "execute_result"
    }
   ],
   "source": [
    "dataset1.head(7)"
   ]
  },
  {
   "cell_type": "code",
   "execution_count": 4,
   "id": "e618fbd2",
   "metadata": {},
   "outputs": [
    {
     "data": {
      "text/html": [
       "<div>\n",
       "<style scoped>\n",
       "    .dataframe tbody tr th:only-of-type {\n",
       "        vertical-align: middle;\n",
       "    }\n",
       "\n",
       "    .dataframe tbody tr th {\n",
       "        vertical-align: top;\n",
       "    }\n",
       "\n",
       "    .dataframe thead th {\n",
       "        text-align: right;\n",
       "    }\n",
       "</style>\n",
       "<table border=\"1\" class=\"dataframe\">\n",
       "  <thead>\n",
       "    <tr style=\"text-align: right;\">\n",
       "      <th></th>\n",
       "      <th>_unit_id</th>\n",
       "      <th>_golden</th>\n",
       "      <th>_unit_state</th>\n",
       "      <th>_trusted_judgments</th>\n",
       "      <th>_last_judgment_at</th>\n",
       "      <th>gender</th>\n",
       "      <th>gender:confidence</th>\n",
       "      <th>profile_yn</th>\n",
       "      <th>profile_yn:confidence</th>\n",
       "      <th>created</th>\n",
       "      <th>...</th>\n",
       "      <th>profileimage</th>\n",
       "      <th>retweet_count</th>\n",
       "      <th>sidebar_color</th>\n",
       "      <th>text</th>\n",
       "      <th>tweet_coord</th>\n",
       "      <th>tweet_count</th>\n",
       "      <th>tweet_created</th>\n",
       "      <th>tweet_id</th>\n",
       "      <th>tweet_location</th>\n",
       "      <th>user_timezone</th>\n",
       "    </tr>\n",
       "  </thead>\n",
       "  <tbody>\n",
       "    <tr>\n",
       "      <th>20043</th>\n",
       "      <td>815756700</td>\n",
       "      <td>True</td>\n",
       "      <td>golden</td>\n",
       "      <td>240</td>\n",
       "      <td>NaN</td>\n",
       "      <td>male</td>\n",
       "      <td>1.0000</td>\n",
       "      <td>yes</td>\n",
       "      <td>1.0</td>\n",
       "      <td>9/27/2011 0:19</td>\n",
       "      <td>...</td>\n",
       "      <td>https://pbs.twimg.com/profile_images/378800000...</td>\n",
       "      <td>1</td>\n",
       "      <td>5ED4DC</td>\n",
       "      <td>Game faggot and venison loin, crisp spelt and ...</td>\n",
       "      <td>NaN</td>\n",
       "      <td>8193</td>\n",
       "      <td>10/26/2015 13:19</td>\n",
       "      <td>6.590000e+17</td>\n",
       "      <td>Chertsey Bridge</td>\n",
       "      <td>NaN</td>\n",
       "    </tr>\n",
       "    <tr>\n",
       "      <th>20044</th>\n",
       "      <td>815756767</td>\n",
       "      <td>True</td>\n",
       "      <td>golden</td>\n",
       "      <td>227</td>\n",
       "      <td>NaN</td>\n",
       "      <td>female</td>\n",
       "      <td>1.0000</td>\n",
       "      <td>yes</td>\n",
       "      <td>1.0</td>\n",
       "      <td>6/11/2014 1:55</td>\n",
       "      <td>...</td>\n",
       "      <td>https://pbs.twimg.com/profile_images/643483977...</td>\n",
       "      <td>0</td>\n",
       "      <td>C0DEED</td>\n",
       "      <td>Need A Ride Home From Practice _Ù÷Ô_Ù÷Ô_Ù÷ÔAnd...</td>\n",
       "      <td>NaN</td>\n",
       "      <td>6669</td>\n",
       "      <td>10/26/2015 13:19</td>\n",
       "      <td>6.590000e+17</td>\n",
       "      <td>NaN</td>\n",
       "      <td>NaN</td>\n",
       "    </tr>\n",
       "    <tr>\n",
       "      <th>20045</th>\n",
       "      <td>815757572</td>\n",
       "      <td>True</td>\n",
       "      <td>golden</td>\n",
       "      <td>259</td>\n",
       "      <td>NaN</td>\n",
       "      <td>female</td>\n",
       "      <td>1.0000</td>\n",
       "      <td>yes</td>\n",
       "      <td>1.0</td>\n",
       "      <td>8/5/2015 21:16</td>\n",
       "      <td>...</td>\n",
       "      <td>https://pbs.twimg.com/profile_images/656793310...</td>\n",
       "      <td>0</td>\n",
       "      <td>C0DEED</td>\n",
       "      <td>@lookupondeath ...Fine, and I'll drink tea too...</td>\n",
       "      <td>NaN</td>\n",
       "      <td>783</td>\n",
       "      <td>10/26/2015 13:20</td>\n",
       "      <td>6.590000e+17</td>\n",
       "      <td>Verona ªÁ</td>\n",
       "      <td>NaN</td>\n",
       "    </tr>\n",
       "    <tr>\n",
       "      <th>20046</th>\n",
       "      <td>815757681</td>\n",
       "      <td>True</td>\n",
       "      <td>golden</td>\n",
       "      <td>248</td>\n",
       "      <td>NaN</td>\n",
       "      <td>male</td>\n",
       "      <td>1.0000</td>\n",
       "      <td>yes</td>\n",
       "      <td>1.0</td>\n",
       "      <td>8/15/2012 21:17</td>\n",
       "      <td>...</td>\n",
       "      <td>https://pbs.twimg.com/profile_images/639815429...</td>\n",
       "      <td>0</td>\n",
       "      <td>0</td>\n",
       "      <td>Greg Hardy you a good player and all but don't...</td>\n",
       "      <td>NaN</td>\n",
       "      <td>13523</td>\n",
       "      <td>10/26/2015 12:40</td>\n",
       "      <td>6.590000e+17</td>\n",
       "      <td>Kansas City, MO</td>\n",
       "      <td>NaN</td>\n",
       "    </tr>\n",
       "    <tr>\n",
       "      <th>20047</th>\n",
       "      <td>815757830</td>\n",
       "      <td>True</td>\n",
       "      <td>golden</td>\n",
       "      <td>264</td>\n",
       "      <td>NaN</td>\n",
       "      <td>male</td>\n",
       "      <td>1.0000</td>\n",
       "      <td>yes</td>\n",
       "      <td>1.0</td>\n",
       "      <td>9/3/2012 1:17</td>\n",
       "      <td>...</td>\n",
       "      <td>https://pbs.twimg.com/profile_images/655473271...</td>\n",
       "      <td>0</td>\n",
       "      <td>C0DEED</td>\n",
       "      <td>You can miss people and still never want to se...</td>\n",
       "      <td>NaN</td>\n",
       "      <td>26419</td>\n",
       "      <td>10/26/2015 13:20</td>\n",
       "      <td>6.590000e+17</td>\n",
       "      <td>Lagos Nigeria</td>\n",
       "      <td>NaN</td>\n",
       "    </tr>\n",
       "    <tr>\n",
       "      <th>20048</th>\n",
       "      <td>815757921</td>\n",
       "      <td>True</td>\n",
       "      <td>golden</td>\n",
       "      <td>250</td>\n",
       "      <td>NaN</td>\n",
       "      <td>female</td>\n",
       "      <td>0.8489</td>\n",
       "      <td>yes</td>\n",
       "      <td>1.0</td>\n",
       "      <td>11/6/2012 23:46</td>\n",
       "      <td>...</td>\n",
       "      <td>https://pbs.twimg.com/profile_images/657716093...</td>\n",
       "      <td>0</td>\n",
       "      <td>0</td>\n",
       "      <td>@bitemyapp i had noticed your tendency to pee ...</td>\n",
       "      <td>NaN</td>\n",
       "      <td>56073</td>\n",
       "      <td>10/26/2015 12:40</td>\n",
       "      <td>6.590000e+17</td>\n",
       "      <td>Texas Hill Country</td>\n",
       "      <td>NaN</td>\n",
       "    </tr>\n",
       "    <tr>\n",
       "      <th>20049</th>\n",
       "      <td>815757985</td>\n",
       "      <td>True</td>\n",
       "      <td>golden</td>\n",
       "      <td>249</td>\n",
       "      <td>NaN</td>\n",
       "      <td>female</td>\n",
       "      <td>1.0000</td>\n",
       "      <td>yes</td>\n",
       "      <td>1.0</td>\n",
       "      <td>4/14/2014 17:22</td>\n",
       "      <td>...</td>\n",
       "      <td>https://pbs.twimg.com/profile_images/655134724...</td>\n",
       "      <td>0</td>\n",
       "      <td>C0DEED</td>\n",
       "      <td>I think for my APUSH creative project I'm goin...</td>\n",
       "      <td>NaN</td>\n",
       "      <td>2922</td>\n",
       "      <td>10/26/2015 13:19</td>\n",
       "      <td>6.590000e+17</td>\n",
       "      <td>NaN</td>\n",
       "      <td>NaN</td>\n",
       "    </tr>\n",
       "  </tbody>\n",
       "</table>\n",
       "<p>7 rows × 26 columns</p>\n",
       "</div>"
      ],
      "text/plain": [
       "        _unit_id  _golden _unit_state  _trusted_judgments _last_judgment_at  \\\n",
       "20043  815756700     True      golden                 240               NaN   \n",
       "20044  815756767     True      golden                 227               NaN   \n",
       "20045  815757572     True      golden                 259               NaN   \n",
       "20046  815757681     True      golden                 248               NaN   \n",
       "20047  815757830     True      golden                 264               NaN   \n",
       "20048  815757921     True      golden                 250               NaN   \n",
       "20049  815757985     True      golden                 249               NaN   \n",
       "\n",
       "       gender  gender:confidence profile_yn  profile_yn:confidence  \\\n",
       "20043    male             1.0000        yes                    1.0   \n",
       "20044  female             1.0000        yes                    1.0   \n",
       "20045  female             1.0000        yes                    1.0   \n",
       "20046    male             1.0000        yes                    1.0   \n",
       "20047    male             1.0000        yes                    1.0   \n",
       "20048  female             0.8489        yes                    1.0   \n",
       "20049  female             1.0000        yes                    1.0   \n",
       "\n",
       "               created  ...  \\\n",
       "20043   9/27/2011 0:19  ...   \n",
       "20044   6/11/2014 1:55  ...   \n",
       "20045   8/5/2015 21:16  ...   \n",
       "20046  8/15/2012 21:17  ...   \n",
       "20047    9/3/2012 1:17  ...   \n",
       "20048  11/6/2012 23:46  ...   \n",
       "20049  4/14/2014 17:22  ...   \n",
       "\n",
       "                                            profileimage  retweet_count  \\\n",
       "20043  https://pbs.twimg.com/profile_images/378800000...              1   \n",
       "20044  https://pbs.twimg.com/profile_images/643483977...              0   \n",
       "20045  https://pbs.twimg.com/profile_images/656793310...              0   \n",
       "20046  https://pbs.twimg.com/profile_images/639815429...              0   \n",
       "20047  https://pbs.twimg.com/profile_images/655473271...              0   \n",
       "20048  https://pbs.twimg.com/profile_images/657716093...              0   \n",
       "20049  https://pbs.twimg.com/profile_images/655134724...              0   \n",
       "\n",
       "      sidebar_color                                               text  \\\n",
       "20043        5ED4DC  Game faggot and venison loin, crisp spelt and ...   \n",
       "20044        C0DEED  Need A Ride Home From Practice _Ù÷Ô_Ù÷Ô_Ù÷ÔAnd...   \n",
       "20045        C0DEED  @lookupondeath ...Fine, and I'll drink tea too...   \n",
       "20046             0  Greg Hardy you a good player and all but don't...   \n",
       "20047        C0DEED  You can miss people and still never want to se...   \n",
       "20048             0  @bitemyapp i had noticed your tendency to pee ...   \n",
       "20049        C0DEED  I think for my APUSH creative project I'm goin...   \n",
       "\n",
       "      tweet_coord tweet_count     tweet_created      tweet_id  \\\n",
       "20043         NaN        8193  10/26/2015 13:19  6.590000e+17   \n",
       "20044         NaN        6669  10/26/2015 13:19  6.590000e+17   \n",
       "20045         NaN         783  10/26/2015 13:20  6.590000e+17   \n",
       "20046         NaN       13523  10/26/2015 12:40  6.590000e+17   \n",
       "20047         NaN       26419  10/26/2015 13:20  6.590000e+17   \n",
       "20048         NaN       56073  10/26/2015 12:40  6.590000e+17   \n",
       "20049         NaN        2922  10/26/2015 13:19  6.590000e+17   \n",
       "\n",
       "           tweet_location user_timezone  \n",
       "20043     Chertsey Bridge           NaN  \n",
       "20044                 NaN           NaN  \n",
       "20045          Verona ªÁ           NaN  \n",
       "20046     Kansas City, MO           NaN  \n",
       "20047      Lagos Nigeria            NaN  \n",
       "20048  Texas Hill Country           NaN  \n",
       "20049                 NaN           NaN  \n",
       "\n",
       "[7 rows x 26 columns]"
      ]
     },
     "execution_count": 4,
     "metadata": {},
     "output_type": "execute_result"
    }
   ],
   "source": [
    "dataset1.tail(7)"
   ]
  },
  {
   "cell_type": "markdown",
   "id": "81404192",
   "metadata": {},
   "source": [
    "### Preprocessing the Dataframe"
   ]
  },
  {
   "cell_type": "code",
   "execution_count": 5,
   "id": "f2f07115",
   "metadata": {},
   "outputs": [
    {
     "data": {
      "text/plain": [
       "(20050, 26)"
      ]
     },
     "execution_count": 5,
     "metadata": {},
     "output_type": "execute_result"
    }
   ],
   "source": [
    "dataset1.shape"
   ]
  },
  {
   "cell_type": "code",
   "execution_count": 6,
   "id": "258ef478",
   "metadata": {},
   "outputs": [
    {
     "data": {
      "text/plain": [
       "Index(['_unit_id', '_golden', '_unit_state', '_trusted_judgments',\n",
       "       '_last_judgment_at', 'gender', 'gender:confidence', 'profile_yn',\n",
       "       'profile_yn:confidence', 'created', 'description', 'fav_number',\n",
       "       'gender_gold', 'link_color', 'name', 'profile_yn_gold', 'profileimage',\n",
       "       'retweet_count', 'sidebar_color', 'text', 'tweet_coord', 'tweet_count',\n",
       "       'tweet_created', 'tweet_id', 'tweet_location', 'user_timezone'],\n",
       "      dtype='object')"
      ]
     },
     "execution_count": 6,
     "metadata": {},
     "output_type": "execute_result"
    }
   ],
   "source": [
    "dataset1.columns"
   ]
  },
  {
   "cell_type": "code",
   "execution_count": 7,
   "id": "0b72eba1",
   "metadata": {},
   "outputs": [
    {
     "data": {
      "text/html": [
       "<div>\n",
       "<style scoped>\n",
       "    .dataframe tbody tr th:only-of-type {\n",
       "        vertical-align: middle;\n",
       "    }\n",
       "\n",
       "    .dataframe tbody tr th {\n",
       "        vertical-align: top;\n",
       "    }\n",
       "\n",
       "    .dataframe thead th {\n",
       "        text-align: right;\n",
       "    }\n",
       "</style>\n",
       "<table border=\"1\" class=\"dataframe\">\n",
       "  <thead>\n",
       "    <tr style=\"text-align: right;\">\n",
       "      <th></th>\n",
       "      <th>_unit_id</th>\n",
       "      <th>_trusted_judgments</th>\n",
       "      <th>gender:confidence</th>\n",
       "      <th>profile_yn:confidence</th>\n",
       "      <th>fav_number</th>\n",
       "      <th>retweet_count</th>\n",
       "      <th>tweet_count</th>\n",
       "      <th>tweet_id</th>\n",
       "    </tr>\n",
       "  </thead>\n",
       "  <tbody>\n",
       "    <tr>\n",
       "      <th>count</th>\n",
       "      <td>2.005000e+04</td>\n",
       "      <td>20050.000000</td>\n",
       "      <td>20024.000000</td>\n",
       "      <td>20050.000000</td>\n",
       "      <td>20050.000000</td>\n",
       "      <td>20050.000000</td>\n",
       "      <td>2.005000e+04</td>\n",
       "      <td>2.005000e+04</td>\n",
       "    </tr>\n",
       "    <tr>\n",
       "      <th>mean</th>\n",
       "      <td>8.157294e+08</td>\n",
       "      <td>3.615711</td>\n",
       "      <td>0.882756</td>\n",
       "      <td>0.993221</td>\n",
       "      <td>4382.201646</td>\n",
       "      <td>0.079401</td>\n",
       "      <td>3.892469e+04</td>\n",
       "      <td>6.590000e+17</td>\n",
       "    </tr>\n",
       "    <tr>\n",
       "      <th>std</th>\n",
       "      <td>6.000801e+03</td>\n",
       "      <td>12.331890</td>\n",
       "      <td>0.191403</td>\n",
       "      <td>0.047168</td>\n",
       "      <td>12518.575919</td>\n",
       "      <td>2.649751</td>\n",
       "      <td>1.168371e+05</td>\n",
       "      <td>1.536038e+05</td>\n",
       "    </tr>\n",
       "    <tr>\n",
       "      <th>min</th>\n",
       "      <td>8.157192e+08</td>\n",
       "      <td>3.000000</td>\n",
       "      <td>0.000000</td>\n",
       "      <td>0.627200</td>\n",
       "      <td>0.000000</td>\n",
       "      <td>0.000000</td>\n",
       "      <td>1.000000e+00</td>\n",
       "      <td>6.590000e+17</td>\n",
       "    </tr>\n",
       "    <tr>\n",
       "      <th>25%</th>\n",
       "      <td>8.157243e+08</td>\n",
       "      <td>3.000000</td>\n",
       "      <td>0.677800</td>\n",
       "      <td>1.000000</td>\n",
       "      <td>11.000000</td>\n",
       "      <td>0.000000</td>\n",
       "      <td>2.398000e+03</td>\n",
       "      <td>6.590000e+17</td>\n",
       "    </tr>\n",
       "    <tr>\n",
       "      <th>50%</th>\n",
       "      <td>8.157294e+08</td>\n",
       "      <td>3.000000</td>\n",
       "      <td>1.000000</td>\n",
       "      <td>1.000000</td>\n",
       "      <td>456.000000</td>\n",
       "      <td>0.000000</td>\n",
       "      <td>1.144150e+04</td>\n",
       "      <td>6.590000e+17</td>\n",
       "    </tr>\n",
       "    <tr>\n",
       "      <th>75%</th>\n",
       "      <td>8.157345e+08</td>\n",
       "      <td>3.000000</td>\n",
       "      <td>1.000000</td>\n",
       "      <td>1.000000</td>\n",
       "      <td>3315.500000</td>\n",
       "      <td>0.000000</td>\n",
       "      <td>4.002750e+04</td>\n",
       "      <td>6.590000e+17</td>\n",
       "    </tr>\n",
       "    <tr>\n",
       "      <th>max</th>\n",
       "      <td>8.157580e+08</td>\n",
       "      <td>274.000000</td>\n",
       "      <td>1.000000</td>\n",
       "      <td>1.000000</td>\n",
       "      <td>341621.000000</td>\n",
       "      <td>330.000000</td>\n",
       "      <td>2.680199e+06</td>\n",
       "      <td>6.590000e+17</td>\n",
       "    </tr>\n",
       "  </tbody>\n",
       "</table>\n",
       "</div>"
      ],
      "text/plain": [
       "           _unit_id  _trusted_judgments  gender:confidence  \\\n",
       "count  2.005000e+04        20050.000000       20024.000000   \n",
       "mean   8.157294e+08            3.615711           0.882756   \n",
       "std    6.000801e+03           12.331890           0.191403   \n",
       "min    8.157192e+08            3.000000           0.000000   \n",
       "25%    8.157243e+08            3.000000           0.677800   \n",
       "50%    8.157294e+08            3.000000           1.000000   \n",
       "75%    8.157345e+08            3.000000           1.000000   \n",
       "max    8.157580e+08          274.000000           1.000000   \n",
       "\n",
       "       profile_yn:confidence     fav_number  retweet_count   tweet_count  \\\n",
       "count           20050.000000   20050.000000   20050.000000  2.005000e+04   \n",
       "mean                0.993221    4382.201646       0.079401  3.892469e+04   \n",
       "std                 0.047168   12518.575919       2.649751  1.168371e+05   \n",
       "min                 0.627200       0.000000       0.000000  1.000000e+00   \n",
       "25%                 1.000000      11.000000       0.000000  2.398000e+03   \n",
       "50%                 1.000000     456.000000       0.000000  1.144150e+04   \n",
       "75%                 1.000000    3315.500000       0.000000  4.002750e+04   \n",
       "max                 1.000000  341621.000000     330.000000  2.680199e+06   \n",
       "\n",
       "           tweet_id  \n",
       "count  2.005000e+04  \n",
       "mean   6.590000e+17  \n",
       "std    1.536038e+05  \n",
       "min    6.590000e+17  \n",
       "25%    6.590000e+17  \n",
       "50%    6.590000e+17  \n",
       "75%    6.590000e+17  \n",
       "max    6.590000e+17  "
      ]
     },
     "execution_count": 7,
     "metadata": {},
     "output_type": "execute_result"
    }
   ],
   "source": [
    "dataset1.describe()"
   ]
  },
  {
   "cell_type": "markdown",
   "id": "e24af210",
   "metadata": {},
   "source": [
    "### Checking for Null Values"
   ]
  },
  {
   "cell_type": "code",
   "execution_count": 8,
   "id": "1f14c064",
   "metadata": {},
   "outputs": [
    {
     "data": {
      "text/plain": [
       "_unit_id                     0\n",
       "_golden                      0\n",
       "_unit_state                  0\n",
       "_trusted_judgments           0\n",
       "_last_judgment_at           50\n",
       "gender                       0\n",
       "gender:confidence           26\n",
       "profile_yn                   0\n",
       "profile_yn:confidence        0\n",
       "created                      0\n",
       "description               3744\n",
       "fav_number                   0\n",
       "gender_gold              20000\n",
       "link_color                   0\n",
       "name                         0\n",
       "profile_yn_gold          20000\n",
       "profileimage                 0\n",
       "retweet_count                0\n",
       "sidebar_color                0\n",
       "text                         0\n",
       "tweet_coord              19891\n",
       "tweet_count                  0\n",
       "tweet_created                0\n",
       "tweet_id                     0\n",
       "tweet_location            7484\n",
       "user_timezone             7798\n",
       "dtype: int64"
      ]
     },
     "execution_count": 8,
     "metadata": {},
     "output_type": "execute_result"
    }
   ],
   "source": [
    "dataset1.isna().sum()"
   ]
  },
  {
   "cell_type": "markdown",
   "id": "5e7d61d3",
   "metadata": {},
   "source": [
    "### Filling Null values using mean,median and mode criteria depending on the datatype of the column"
   ]
  },
  {
   "cell_type": "code",
   "execution_count": 9,
   "id": "c8097eed",
   "metadata": {},
   "outputs": [],
   "source": [
    "#filtering  gender:confidence column by taking a threshold value greater than 0.99\n",
    "dataset1 = dataset1[dataset1['gender:confidence'] >=0.99]"
   ]
  },
  {
   "cell_type": "code",
   "execution_count": 10,
   "id": "8317397a",
   "metadata": {},
   "outputs": [
    {
     "data": {
      "text/plain": [
       "1.0    13926\n",
       "Name: gender:confidence, dtype: int64"
      ]
     },
     "execution_count": 10,
     "metadata": {},
     "output_type": "execute_result"
    }
   ],
   "source": [
    "dataset1['gender:confidence'].value_counts()"
   ]
  },
  {
   "cell_type": "code",
   "execution_count": 11,
   "id": "eb5bd62f",
   "metadata": {},
   "outputs": [],
   "source": [
    "#filtering  profile_yn:confidence column by taking a threshold value greater than 0.99\n",
    "dataset1 = dataset1[dataset1['profile_yn:confidence'] >=0.99]"
   ]
  },
  {
   "cell_type": "code",
   "execution_count": 12,
   "id": "d17898cf",
   "metadata": {},
   "outputs": [
    {
     "data": {
      "text/plain": [
       "1.0    13926\n",
       "Name: profile_yn:confidence, dtype: int64"
      ]
     },
     "execution_count": 12,
     "metadata": {},
     "output_type": "execute_result"
    }
   ],
   "source": [
    "dataset1['profile_yn:confidence'].value_counts()"
   ]
  },
  {
   "cell_type": "code",
   "execution_count": 13,
   "id": "81ef3ecb",
   "metadata": {},
   "outputs": [
    {
     "data": {
      "text/plain": [
       "_unit_id                     0\n",
       "_golden                      0\n",
       "_unit_state                  0\n",
       "_trusted_judgments           0\n",
       "_last_judgment_at           29\n",
       "gender                       0\n",
       "gender:confidence            0\n",
       "profile_yn                   0\n",
       "profile_yn:confidence        0\n",
       "created                      0\n",
       "description               2081\n",
       "fav_number                   0\n",
       "gender_gold              13897\n",
       "link_color                   0\n",
       "name                         0\n",
       "profile_yn_gold          13897\n",
       "profileimage                 0\n",
       "retweet_count                0\n",
       "sidebar_color                0\n",
       "text                         0\n",
       "tweet_coord              13795\n",
       "tweet_count                  0\n",
       "tweet_created                0\n",
       "tweet_id                     0\n",
       "tweet_location            4666\n",
       "user_timezone             4969\n",
       "dtype: int64"
      ]
     },
     "execution_count": 13,
     "metadata": {},
     "output_type": "execute_result"
    }
   ],
   "source": [
    "dataset1.isna().sum()"
   ]
  },
  {
   "cell_type": "code",
   "execution_count": 14,
   "id": "74b7edcc",
   "metadata": {},
   "outputs": [],
   "source": [
    "dataset1[\"gender_gold\"].fillna('NaNs', inplace = True)"
   ]
  },
  {
   "cell_type": "code",
   "execution_count": 15,
   "id": "c444904b",
   "metadata": {},
   "outputs": [],
   "source": [
    "dataset1[\"description\"].fillna('NaNs', inplace = True)             \n"
   ]
  },
  {
   "cell_type": "code",
   "execution_count": 16,
   "id": "a7b3e643",
   "metadata": {},
   "outputs": [],
   "source": [
    "dataset1[\"profile_yn_gold\"].fillna('No', inplace = True) "
   ]
  },
  {
   "cell_type": "code",
   "execution_count": 17,
   "id": "b6b04901",
   "metadata": {},
   "outputs": [],
   "source": [
    "dataset1[\"tweet_coord\"].fillna('NaNs', inplace = True)"
   ]
  },
  {
   "cell_type": "code",
   "execution_count": 18,
   "id": "aa5ee510",
   "metadata": {},
   "outputs": [],
   "source": [
    "dataset1[\"tweet_location\"].fillna('NaNs', inplace = True)"
   ]
  },
  {
   "cell_type": "code",
   "execution_count": 19,
   "id": "06b48cd4",
   "metadata": {},
   "outputs": [],
   "source": [
    "dataset1[\"user_timezone\"].fillna('NaNs', inplace = True)             \n"
   ]
  },
  {
   "cell_type": "code",
   "execution_count": 20,
   "id": "88af8822",
   "metadata": {},
   "outputs": [],
   "source": [
    "dataset1[\"_last_judgment_at\"].fillna('NaNs', inplace = True)"
   ]
  },
  {
   "cell_type": "code",
   "execution_count": 21,
   "id": "c0395b3b",
   "metadata": {},
   "outputs": [
    {
     "data": {
      "text/html": [
       "<div>\n",
       "<style scoped>\n",
       "    .dataframe tbody tr th:only-of-type {\n",
       "        vertical-align: middle;\n",
       "    }\n",
       "\n",
       "    .dataframe tbody tr th {\n",
       "        vertical-align: top;\n",
       "    }\n",
       "\n",
       "    .dataframe thead th {\n",
       "        text-align: right;\n",
       "    }\n",
       "</style>\n",
       "<table border=\"1\" class=\"dataframe\">\n",
       "  <thead>\n",
       "    <tr style=\"text-align: right;\">\n",
       "      <th></th>\n",
       "      <th>_unit_id</th>\n",
       "      <th>_golden</th>\n",
       "      <th>_unit_state</th>\n",
       "      <th>_trusted_judgments</th>\n",
       "      <th>_last_judgment_at</th>\n",
       "      <th>gender</th>\n",
       "      <th>gender:confidence</th>\n",
       "      <th>profile_yn</th>\n",
       "      <th>profile_yn:confidence</th>\n",
       "      <th>created</th>\n",
       "      <th>...</th>\n",
       "      <th>profileimage</th>\n",
       "      <th>retweet_count</th>\n",
       "      <th>sidebar_color</th>\n",
       "      <th>text</th>\n",
       "      <th>tweet_coord</th>\n",
       "      <th>tweet_count</th>\n",
       "      <th>tweet_created</th>\n",
       "      <th>tweet_id</th>\n",
       "      <th>tweet_location</th>\n",
       "      <th>user_timezone</th>\n",
       "    </tr>\n",
       "  </thead>\n",
       "  <tbody>\n",
       "    <tr>\n",
       "      <th>0</th>\n",
       "      <td>815719226</td>\n",
       "      <td>False</td>\n",
       "      <td>finalized</td>\n",
       "      <td>3</td>\n",
       "      <td>10/26/2015 23:24</td>\n",
       "      <td>male</td>\n",
       "      <td>1.0</td>\n",
       "      <td>yes</td>\n",
       "      <td>1.0</td>\n",
       "      <td>12/5/2013 1:48</td>\n",
       "      <td>...</td>\n",
       "      <td>https://pbs.twimg.com/profile_images/414342229...</td>\n",
       "      <td>0</td>\n",
       "      <td>FFFFFF</td>\n",
       "      <td>Robbie E Responds To Critics After Win Against...</td>\n",
       "      <td>NaNs</td>\n",
       "      <td>110964</td>\n",
       "      <td>10/26/2015 12:40</td>\n",
       "      <td>6.590000e+17</td>\n",
       "      <td>main; @Kan1shk3</td>\n",
       "      <td>Chennai</td>\n",
       "    </tr>\n",
       "    <tr>\n",
       "      <th>1</th>\n",
       "      <td>815719227</td>\n",
       "      <td>False</td>\n",
       "      <td>finalized</td>\n",
       "      <td>3</td>\n",
       "      <td>10/26/2015 23:30</td>\n",
       "      <td>male</td>\n",
       "      <td>1.0</td>\n",
       "      <td>yes</td>\n",
       "      <td>1.0</td>\n",
       "      <td>10/1/2012 13:51</td>\n",
       "      <td>...</td>\n",
       "      <td>https://pbs.twimg.com/profile_images/539604221...</td>\n",
       "      <td>0</td>\n",
       "      <td>C0DEED</td>\n",
       "      <td>ÛÏIt felt like they were my friends and I was...</td>\n",
       "      <td>NaNs</td>\n",
       "      <td>7471</td>\n",
       "      <td>10/26/2015 12:40</td>\n",
       "      <td>6.590000e+17</td>\n",
       "      <td>NaNs</td>\n",
       "      <td>Eastern Time (US &amp; Canada)</td>\n",
       "    </tr>\n",
       "    <tr>\n",
       "      <th>3</th>\n",
       "      <td>815719229</td>\n",
       "      <td>False</td>\n",
       "      <td>finalized</td>\n",
       "      <td>3</td>\n",
       "      <td>10/26/2015 23:10</td>\n",
       "      <td>male</td>\n",
       "      <td>1.0</td>\n",
       "      <td>yes</td>\n",
       "      <td>1.0</td>\n",
       "      <td>6/11/2009 22:39</td>\n",
       "      <td>...</td>\n",
       "      <td>https://pbs.twimg.com/profile_images/259703936...</td>\n",
       "      <td>0</td>\n",
       "      <td>C0DEED</td>\n",
       "      <td>Hi @JordanSpieth - Looking at the url - do you...</td>\n",
       "      <td>NaNs</td>\n",
       "      <td>1693</td>\n",
       "      <td>10/26/2015 12:40</td>\n",
       "      <td>6.590000e+17</td>\n",
       "      <td>Palo Alto, CA</td>\n",
       "      <td>Pacific Time (US &amp; Canada)</td>\n",
       "    </tr>\n",
       "    <tr>\n",
       "      <th>4</th>\n",
       "      <td>815719230</td>\n",
       "      <td>False</td>\n",
       "      <td>finalized</td>\n",
       "      <td>3</td>\n",
       "      <td>10/27/2015 1:15</td>\n",
       "      <td>female</td>\n",
       "      <td>1.0</td>\n",
       "      <td>yes</td>\n",
       "      <td>1.0</td>\n",
       "      <td>4/16/2014 13:23</td>\n",
       "      <td>...</td>\n",
       "      <td>https://pbs.twimg.com/profile_images/564094871...</td>\n",
       "      <td>0</td>\n",
       "      <td>0</td>\n",
       "      <td>Watching Neighbours on Sky+ catching up with t...</td>\n",
       "      <td>NaNs</td>\n",
       "      <td>31462</td>\n",
       "      <td>10/26/2015 12:40</td>\n",
       "      <td>6.590000e+17</td>\n",
       "      <td>NaNs</td>\n",
       "      <td>NaNs</td>\n",
       "    </tr>\n",
       "    <tr>\n",
       "      <th>5</th>\n",
       "      <td>815719231</td>\n",
       "      <td>False</td>\n",
       "      <td>finalized</td>\n",
       "      <td>3</td>\n",
       "      <td>10/27/2015 1:47</td>\n",
       "      <td>female</td>\n",
       "      <td>1.0</td>\n",
       "      <td>yes</td>\n",
       "      <td>1.0</td>\n",
       "      <td>3/11/2010 18:14</td>\n",
       "      <td>...</td>\n",
       "      <td>https://pbs.twimg.com/profile_images/656336865...</td>\n",
       "      <td>0</td>\n",
       "      <td>0</td>\n",
       "      <td>Ive seen people on the train with lamps, chair...</td>\n",
       "      <td>NaNs</td>\n",
       "      <td>20036</td>\n",
       "      <td>10/26/2015 12:40</td>\n",
       "      <td>6.590000e+17</td>\n",
       "      <td>New York Gritty</td>\n",
       "      <td>Central Time (US &amp; Canada)</td>\n",
       "    </tr>\n",
       "    <tr>\n",
       "      <th>...</th>\n",
       "      <td>...</td>\n",
       "      <td>...</td>\n",
       "      <td>...</td>\n",
       "      <td>...</td>\n",
       "      <td>...</td>\n",
       "      <td>...</td>\n",
       "      <td>...</td>\n",
       "      <td>...</td>\n",
       "      <td>...</td>\n",
       "      <td>...</td>\n",
       "      <td>...</td>\n",
       "      <td>...</td>\n",
       "      <td>...</td>\n",
       "      <td>...</td>\n",
       "      <td>...</td>\n",
       "      <td>...</td>\n",
       "      <td>...</td>\n",
       "      <td>...</td>\n",
       "      <td>...</td>\n",
       "      <td>...</td>\n",
       "      <td>...</td>\n",
       "    </tr>\n",
       "    <tr>\n",
       "      <th>20044</th>\n",
       "      <td>815756767</td>\n",
       "      <td>True</td>\n",
       "      <td>golden</td>\n",
       "      <td>227</td>\n",
       "      <td>NaNs</td>\n",
       "      <td>female</td>\n",
       "      <td>1.0</td>\n",
       "      <td>yes</td>\n",
       "      <td>1.0</td>\n",
       "      <td>6/11/2014 1:55</td>\n",
       "      <td>...</td>\n",
       "      <td>https://pbs.twimg.com/profile_images/643483977...</td>\n",
       "      <td>0</td>\n",
       "      <td>C0DEED</td>\n",
       "      <td>Need A Ride Home From Practice _Ù÷Ô_Ù÷Ô_Ù÷ÔAnd...</td>\n",
       "      <td>NaNs</td>\n",
       "      <td>6669</td>\n",
       "      <td>10/26/2015 13:19</td>\n",
       "      <td>6.590000e+17</td>\n",
       "      <td>NaNs</td>\n",
       "      <td>NaNs</td>\n",
       "    </tr>\n",
       "    <tr>\n",
       "      <th>20045</th>\n",
       "      <td>815757572</td>\n",
       "      <td>True</td>\n",
       "      <td>golden</td>\n",
       "      <td>259</td>\n",
       "      <td>NaNs</td>\n",
       "      <td>female</td>\n",
       "      <td>1.0</td>\n",
       "      <td>yes</td>\n",
       "      <td>1.0</td>\n",
       "      <td>8/5/2015 21:16</td>\n",
       "      <td>...</td>\n",
       "      <td>https://pbs.twimg.com/profile_images/656793310...</td>\n",
       "      <td>0</td>\n",
       "      <td>C0DEED</td>\n",
       "      <td>@lookupondeath ...Fine, and I'll drink tea too...</td>\n",
       "      <td>NaNs</td>\n",
       "      <td>783</td>\n",
       "      <td>10/26/2015 13:20</td>\n",
       "      <td>6.590000e+17</td>\n",
       "      <td>Verona ªÁ</td>\n",
       "      <td>NaNs</td>\n",
       "    </tr>\n",
       "    <tr>\n",
       "      <th>20046</th>\n",
       "      <td>815757681</td>\n",
       "      <td>True</td>\n",
       "      <td>golden</td>\n",
       "      <td>248</td>\n",
       "      <td>NaNs</td>\n",
       "      <td>male</td>\n",
       "      <td>1.0</td>\n",
       "      <td>yes</td>\n",
       "      <td>1.0</td>\n",
       "      <td>8/15/2012 21:17</td>\n",
       "      <td>...</td>\n",
       "      <td>https://pbs.twimg.com/profile_images/639815429...</td>\n",
       "      <td>0</td>\n",
       "      <td>0</td>\n",
       "      <td>Greg Hardy you a good player and all but don't...</td>\n",
       "      <td>NaNs</td>\n",
       "      <td>13523</td>\n",
       "      <td>10/26/2015 12:40</td>\n",
       "      <td>6.590000e+17</td>\n",
       "      <td>Kansas City, MO</td>\n",
       "      <td>NaNs</td>\n",
       "    </tr>\n",
       "    <tr>\n",
       "      <th>20047</th>\n",
       "      <td>815757830</td>\n",
       "      <td>True</td>\n",
       "      <td>golden</td>\n",
       "      <td>264</td>\n",
       "      <td>NaNs</td>\n",
       "      <td>male</td>\n",
       "      <td>1.0</td>\n",
       "      <td>yes</td>\n",
       "      <td>1.0</td>\n",
       "      <td>9/3/2012 1:17</td>\n",
       "      <td>...</td>\n",
       "      <td>https://pbs.twimg.com/profile_images/655473271...</td>\n",
       "      <td>0</td>\n",
       "      <td>C0DEED</td>\n",
       "      <td>You can miss people and still never want to se...</td>\n",
       "      <td>NaNs</td>\n",
       "      <td>26419</td>\n",
       "      <td>10/26/2015 13:20</td>\n",
       "      <td>6.590000e+17</td>\n",
       "      <td>Lagos Nigeria</td>\n",
       "      <td>NaNs</td>\n",
       "    </tr>\n",
       "    <tr>\n",
       "      <th>20049</th>\n",
       "      <td>815757985</td>\n",
       "      <td>True</td>\n",
       "      <td>golden</td>\n",
       "      <td>249</td>\n",
       "      <td>NaNs</td>\n",
       "      <td>female</td>\n",
       "      <td>1.0</td>\n",
       "      <td>yes</td>\n",
       "      <td>1.0</td>\n",
       "      <td>4/14/2014 17:22</td>\n",
       "      <td>...</td>\n",
       "      <td>https://pbs.twimg.com/profile_images/655134724...</td>\n",
       "      <td>0</td>\n",
       "      <td>C0DEED</td>\n",
       "      <td>I think for my APUSH creative project I'm goin...</td>\n",
       "      <td>NaNs</td>\n",
       "      <td>2922</td>\n",
       "      <td>10/26/2015 13:19</td>\n",
       "      <td>6.590000e+17</td>\n",
       "      <td>NaNs</td>\n",
       "      <td>NaNs</td>\n",
       "    </tr>\n",
       "  </tbody>\n",
       "</table>\n",
       "<p>13926 rows × 26 columns</p>\n",
       "</div>"
      ],
      "text/plain": [
       "        _unit_id  _golden _unit_state  _trusted_judgments _last_judgment_at  \\\n",
       "0      815719226    False   finalized                   3  10/26/2015 23:24   \n",
       "1      815719227    False   finalized                   3  10/26/2015 23:30   \n",
       "3      815719229    False   finalized                   3  10/26/2015 23:10   \n",
       "4      815719230    False   finalized                   3   10/27/2015 1:15   \n",
       "5      815719231    False   finalized                   3   10/27/2015 1:47   \n",
       "...          ...      ...         ...                 ...               ...   \n",
       "20044  815756767     True      golden                 227              NaNs   \n",
       "20045  815757572     True      golden                 259              NaNs   \n",
       "20046  815757681     True      golden                 248              NaNs   \n",
       "20047  815757830     True      golden                 264              NaNs   \n",
       "20049  815757985     True      golden                 249              NaNs   \n",
       "\n",
       "       gender  gender:confidence profile_yn  profile_yn:confidence  \\\n",
       "0        male                1.0        yes                    1.0   \n",
       "1        male                1.0        yes                    1.0   \n",
       "3        male                1.0        yes                    1.0   \n",
       "4      female                1.0        yes                    1.0   \n",
       "5      female                1.0        yes                    1.0   \n",
       "...       ...                ...        ...                    ...   \n",
       "20044  female                1.0        yes                    1.0   \n",
       "20045  female                1.0        yes                    1.0   \n",
       "20046    male                1.0        yes                    1.0   \n",
       "20047    male                1.0        yes                    1.0   \n",
       "20049  female                1.0        yes                    1.0   \n",
       "\n",
       "               created  ...  \\\n",
       "0       12/5/2013 1:48  ...   \n",
       "1      10/1/2012 13:51  ...   \n",
       "3      6/11/2009 22:39  ...   \n",
       "4      4/16/2014 13:23  ...   \n",
       "5      3/11/2010 18:14  ...   \n",
       "...                ...  ...   \n",
       "20044   6/11/2014 1:55  ...   \n",
       "20045   8/5/2015 21:16  ...   \n",
       "20046  8/15/2012 21:17  ...   \n",
       "20047    9/3/2012 1:17  ...   \n",
       "20049  4/14/2014 17:22  ...   \n",
       "\n",
       "                                            profileimage  retweet_count  \\\n",
       "0      https://pbs.twimg.com/profile_images/414342229...              0   \n",
       "1      https://pbs.twimg.com/profile_images/539604221...              0   \n",
       "3      https://pbs.twimg.com/profile_images/259703936...              0   \n",
       "4      https://pbs.twimg.com/profile_images/564094871...              0   \n",
       "5      https://pbs.twimg.com/profile_images/656336865...              0   \n",
       "...                                                  ...            ...   \n",
       "20044  https://pbs.twimg.com/profile_images/643483977...              0   \n",
       "20045  https://pbs.twimg.com/profile_images/656793310...              0   \n",
       "20046  https://pbs.twimg.com/profile_images/639815429...              0   \n",
       "20047  https://pbs.twimg.com/profile_images/655473271...              0   \n",
       "20049  https://pbs.twimg.com/profile_images/655134724...              0   \n",
       "\n",
       "      sidebar_color                                               text  \\\n",
       "0            FFFFFF  Robbie E Responds To Critics After Win Against...   \n",
       "1            C0DEED  ÛÏIt felt like they were my friends and I was...   \n",
       "3            C0DEED  Hi @JordanSpieth - Looking at the url - do you...   \n",
       "4                 0  Watching Neighbours on Sky+ catching up with t...   \n",
       "5                 0  Ive seen people on the train with lamps, chair...   \n",
       "...             ...                                                ...   \n",
       "20044        C0DEED  Need A Ride Home From Practice _Ù÷Ô_Ù÷Ô_Ù÷ÔAnd...   \n",
       "20045        C0DEED  @lookupondeath ...Fine, and I'll drink tea too...   \n",
       "20046             0  Greg Hardy you a good player and all but don't...   \n",
       "20047        C0DEED  You can miss people and still never want to se...   \n",
       "20049        C0DEED  I think for my APUSH creative project I'm goin...   \n",
       "\n",
       "      tweet_coord tweet_count     tweet_created      tweet_id  \\\n",
       "0            NaNs      110964  10/26/2015 12:40  6.590000e+17   \n",
       "1            NaNs        7471  10/26/2015 12:40  6.590000e+17   \n",
       "3            NaNs        1693  10/26/2015 12:40  6.590000e+17   \n",
       "4            NaNs       31462  10/26/2015 12:40  6.590000e+17   \n",
       "5            NaNs       20036  10/26/2015 12:40  6.590000e+17   \n",
       "...           ...         ...               ...           ...   \n",
       "20044        NaNs        6669  10/26/2015 13:19  6.590000e+17   \n",
       "20045        NaNs         783  10/26/2015 13:20  6.590000e+17   \n",
       "20046        NaNs       13523  10/26/2015 12:40  6.590000e+17   \n",
       "20047        NaNs       26419  10/26/2015 13:20  6.590000e+17   \n",
       "20049        NaNs        2922  10/26/2015 13:19  6.590000e+17   \n",
       "\n",
       "        tweet_location               user_timezone  \n",
       "0      main; @Kan1shk3                     Chennai  \n",
       "1                 NaNs  Eastern Time (US & Canada)  \n",
       "3        Palo Alto, CA  Pacific Time (US & Canada)  \n",
       "4                 NaNs                        NaNs  \n",
       "5      New York Gritty  Central Time (US & Canada)  \n",
       "...                ...                         ...  \n",
       "20044             NaNs                        NaNs  \n",
       "20045       Verona ªÁ                        NaNs  \n",
       "20046  Kansas City, MO                        NaNs  \n",
       "20047   Lagos Nigeria                         NaNs  \n",
       "20049             NaNs                        NaNs  \n",
       "\n",
       "[13926 rows x 26 columns]"
      ]
     },
     "execution_count": 21,
     "metadata": {},
     "output_type": "execute_result"
    }
   ],
   "source": [
    "dataset1"
   ]
  },
  {
   "cell_type": "code",
   "execution_count": 22,
   "id": "895eb101",
   "metadata": {},
   "outputs": [
    {
     "data": {
      "text/html": [
       "<div>\n",
       "<style scoped>\n",
       "    .dataframe tbody tr th:only-of-type {\n",
       "        vertical-align: middle;\n",
       "    }\n",
       "\n",
       "    .dataframe tbody tr th {\n",
       "        vertical-align: top;\n",
       "    }\n",
       "\n",
       "    .dataframe thead th {\n",
       "        text-align: right;\n",
       "    }\n",
       "</style>\n",
       "<table border=\"1\" class=\"dataframe\">\n",
       "  <thead>\n",
       "    <tr style=\"text-align: right;\">\n",
       "      <th></th>\n",
       "      <th>_unit_id</th>\n",
       "      <th>_golden</th>\n",
       "      <th>_unit_state</th>\n",
       "      <th>_trusted_judgments</th>\n",
       "      <th>_last_judgment_at</th>\n",
       "      <th>gender</th>\n",
       "      <th>gender:confidence</th>\n",
       "      <th>profile_yn</th>\n",
       "      <th>profile_yn:confidence</th>\n",
       "      <th>created</th>\n",
       "      <th>...</th>\n",
       "      <th>profileimage</th>\n",
       "      <th>retweet_count</th>\n",
       "      <th>sidebar_color</th>\n",
       "      <th>text</th>\n",
       "      <th>tweet_coord</th>\n",
       "      <th>tweet_count</th>\n",
       "      <th>tweet_created</th>\n",
       "      <th>tweet_id</th>\n",
       "      <th>tweet_location</th>\n",
       "      <th>user_timezone</th>\n",
       "    </tr>\n",
       "  </thead>\n",
       "  <tbody>\n",
       "    <tr>\n",
       "      <th>0</th>\n",
       "      <td>815719226</td>\n",
       "      <td>False</td>\n",
       "      <td>finalized</td>\n",
       "      <td>3</td>\n",
       "      <td>10/26/2015 23:24</td>\n",
       "      <td>male</td>\n",
       "      <td>1.0</td>\n",
       "      <td>yes</td>\n",
       "      <td>1.0</td>\n",
       "      <td>12/5/2013 1:48</td>\n",
       "      <td>...</td>\n",
       "      <td>https://pbs.twimg.com/profile_images/414342229...</td>\n",
       "      <td>0</td>\n",
       "      <td>FFFFFF</td>\n",
       "      <td>Robbie E Responds To Critics After Win Against...</td>\n",
       "      <td>NaN</td>\n",
       "      <td>110964</td>\n",
       "      <td>10/26/2015 12:40</td>\n",
       "      <td>6.590000e+17</td>\n",
       "      <td>main; @Kan1shk3</td>\n",
       "      <td>Chennai</td>\n",
       "    </tr>\n",
       "    <tr>\n",
       "      <th>1</th>\n",
       "      <td>815719227</td>\n",
       "      <td>False</td>\n",
       "      <td>finalized</td>\n",
       "      <td>3</td>\n",
       "      <td>10/26/2015 23:30</td>\n",
       "      <td>male</td>\n",
       "      <td>1.0</td>\n",
       "      <td>yes</td>\n",
       "      <td>1.0</td>\n",
       "      <td>10/1/2012 13:51</td>\n",
       "      <td>...</td>\n",
       "      <td>https://pbs.twimg.com/profile_images/539604221...</td>\n",
       "      <td>0</td>\n",
       "      <td>C0DEED</td>\n",
       "      <td>ÛÏIt felt like they were my friends and I was...</td>\n",
       "      <td>NaN</td>\n",
       "      <td>7471</td>\n",
       "      <td>10/26/2015 12:40</td>\n",
       "      <td>6.590000e+17</td>\n",
       "      <td>NaN</td>\n",
       "      <td>Eastern Time (US &amp; Canada)</td>\n",
       "    </tr>\n",
       "    <tr>\n",
       "      <th>3</th>\n",
       "      <td>815719229</td>\n",
       "      <td>False</td>\n",
       "      <td>finalized</td>\n",
       "      <td>3</td>\n",
       "      <td>10/26/2015 23:10</td>\n",
       "      <td>male</td>\n",
       "      <td>1.0</td>\n",
       "      <td>yes</td>\n",
       "      <td>1.0</td>\n",
       "      <td>6/11/2009 22:39</td>\n",
       "      <td>...</td>\n",
       "      <td>https://pbs.twimg.com/profile_images/259703936...</td>\n",
       "      <td>0</td>\n",
       "      <td>C0DEED</td>\n",
       "      <td>Hi @JordanSpieth - Looking at the url - do you...</td>\n",
       "      <td>NaN</td>\n",
       "      <td>1693</td>\n",
       "      <td>10/26/2015 12:40</td>\n",
       "      <td>6.590000e+17</td>\n",
       "      <td>Palo Alto, CA</td>\n",
       "      <td>Pacific Time (US &amp; Canada)</td>\n",
       "    </tr>\n",
       "    <tr>\n",
       "      <th>4</th>\n",
       "      <td>815719230</td>\n",
       "      <td>False</td>\n",
       "      <td>finalized</td>\n",
       "      <td>3</td>\n",
       "      <td>10/27/2015 1:15</td>\n",
       "      <td>female</td>\n",
       "      <td>1.0</td>\n",
       "      <td>yes</td>\n",
       "      <td>1.0</td>\n",
       "      <td>4/16/2014 13:23</td>\n",
       "      <td>...</td>\n",
       "      <td>https://pbs.twimg.com/profile_images/564094871...</td>\n",
       "      <td>0</td>\n",
       "      <td>0</td>\n",
       "      <td>Watching Neighbours on Sky+ catching up with t...</td>\n",
       "      <td>NaN</td>\n",
       "      <td>31462</td>\n",
       "      <td>10/26/2015 12:40</td>\n",
       "      <td>6.590000e+17</td>\n",
       "      <td>NaN</td>\n",
       "      <td>NaN</td>\n",
       "    </tr>\n",
       "    <tr>\n",
       "      <th>5</th>\n",
       "      <td>815719231</td>\n",
       "      <td>False</td>\n",
       "      <td>finalized</td>\n",
       "      <td>3</td>\n",
       "      <td>10/27/2015 1:47</td>\n",
       "      <td>female</td>\n",
       "      <td>1.0</td>\n",
       "      <td>yes</td>\n",
       "      <td>1.0</td>\n",
       "      <td>3/11/2010 18:14</td>\n",
       "      <td>...</td>\n",
       "      <td>https://pbs.twimg.com/profile_images/656336865...</td>\n",
       "      <td>0</td>\n",
       "      <td>0</td>\n",
       "      <td>Ive seen people on the train with lamps, chair...</td>\n",
       "      <td>NaN</td>\n",
       "      <td>20036</td>\n",
       "      <td>10/26/2015 12:40</td>\n",
       "      <td>6.590000e+17</td>\n",
       "      <td>New York Gritty</td>\n",
       "      <td>Central Time (US &amp; Canada)</td>\n",
       "    </tr>\n",
       "    <tr>\n",
       "      <th>...</th>\n",
       "      <td>...</td>\n",
       "      <td>...</td>\n",
       "      <td>...</td>\n",
       "      <td>...</td>\n",
       "      <td>...</td>\n",
       "      <td>...</td>\n",
       "      <td>...</td>\n",
       "      <td>...</td>\n",
       "      <td>...</td>\n",
       "      <td>...</td>\n",
       "      <td>...</td>\n",
       "      <td>...</td>\n",
       "      <td>...</td>\n",
       "      <td>...</td>\n",
       "      <td>...</td>\n",
       "      <td>...</td>\n",
       "      <td>...</td>\n",
       "      <td>...</td>\n",
       "      <td>...</td>\n",
       "      <td>...</td>\n",
       "      <td>...</td>\n",
       "    </tr>\n",
       "    <tr>\n",
       "      <th>20044</th>\n",
       "      <td>815756767</td>\n",
       "      <td>True</td>\n",
       "      <td>golden</td>\n",
       "      <td>227</td>\n",
       "      <td>NaN</td>\n",
       "      <td>female</td>\n",
       "      <td>1.0</td>\n",
       "      <td>yes</td>\n",
       "      <td>1.0</td>\n",
       "      <td>6/11/2014 1:55</td>\n",
       "      <td>...</td>\n",
       "      <td>https://pbs.twimg.com/profile_images/643483977...</td>\n",
       "      <td>0</td>\n",
       "      <td>C0DEED</td>\n",
       "      <td>Need A Ride Home From Practice _Ù÷Ô_Ù÷Ô_Ù÷ÔAnd...</td>\n",
       "      <td>NaN</td>\n",
       "      <td>6669</td>\n",
       "      <td>10/26/2015 13:19</td>\n",
       "      <td>6.590000e+17</td>\n",
       "      <td>NaN</td>\n",
       "      <td>NaN</td>\n",
       "    </tr>\n",
       "    <tr>\n",
       "      <th>20045</th>\n",
       "      <td>815757572</td>\n",
       "      <td>True</td>\n",
       "      <td>golden</td>\n",
       "      <td>259</td>\n",
       "      <td>NaN</td>\n",
       "      <td>female</td>\n",
       "      <td>1.0</td>\n",
       "      <td>yes</td>\n",
       "      <td>1.0</td>\n",
       "      <td>8/5/2015 21:16</td>\n",
       "      <td>...</td>\n",
       "      <td>https://pbs.twimg.com/profile_images/656793310...</td>\n",
       "      <td>0</td>\n",
       "      <td>C0DEED</td>\n",
       "      <td>@lookupondeath ...Fine, and I'll drink tea too...</td>\n",
       "      <td>NaN</td>\n",
       "      <td>783</td>\n",
       "      <td>10/26/2015 13:20</td>\n",
       "      <td>6.590000e+17</td>\n",
       "      <td>Verona ªÁ</td>\n",
       "      <td>NaN</td>\n",
       "    </tr>\n",
       "    <tr>\n",
       "      <th>20046</th>\n",
       "      <td>815757681</td>\n",
       "      <td>True</td>\n",
       "      <td>golden</td>\n",
       "      <td>248</td>\n",
       "      <td>NaN</td>\n",
       "      <td>male</td>\n",
       "      <td>1.0</td>\n",
       "      <td>yes</td>\n",
       "      <td>1.0</td>\n",
       "      <td>8/15/2012 21:17</td>\n",
       "      <td>...</td>\n",
       "      <td>https://pbs.twimg.com/profile_images/639815429...</td>\n",
       "      <td>0</td>\n",
       "      <td>0</td>\n",
       "      <td>Greg Hardy you a good player and all but don't...</td>\n",
       "      <td>NaN</td>\n",
       "      <td>13523</td>\n",
       "      <td>10/26/2015 12:40</td>\n",
       "      <td>6.590000e+17</td>\n",
       "      <td>Kansas City, MO</td>\n",
       "      <td>NaN</td>\n",
       "    </tr>\n",
       "    <tr>\n",
       "      <th>20047</th>\n",
       "      <td>815757830</td>\n",
       "      <td>True</td>\n",
       "      <td>golden</td>\n",
       "      <td>264</td>\n",
       "      <td>NaN</td>\n",
       "      <td>male</td>\n",
       "      <td>1.0</td>\n",
       "      <td>yes</td>\n",
       "      <td>1.0</td>\n",
       "      <td>9/3/2012 1:17</td>\n",
       "      <td>...</td>\n",
       "      <td>https://pbs.twimg.com/profile_images/655473271...</td>\n",
       "      <td>0</td>\n",
       "      <td>C0DEED</td>\n",
       "      <td>You can miss people and still never want to se...</td>\n",
       "      <td>NaN</td>\n",
       "      <td>26419</td>\n",
       "      <td>10/26/2015 13:20</td>\n",
       "      <td>6.590000e+17</td>\n",
       "      <td>Lagos Nigeria</td>\n",
       "      <td>NaN</td>\n",
       "    </tr>\n",
       "    <tr>\n",
       "      <th>20049</th>\n",
       "      <td>815757985</td>\n",
       "      <td>True</td>\n",
       "      <td>golden</td>\n",
       "      <td>249</td>\n",
       "      <td>NaN</td>\n",
       "      <td>female</td>\n",
       "      <td>1.0</td>\n",
       "      <td>yes</td>\n",
       "      <td>1.0</td>\n",
       "      <td>4/14/2014 17:22</td>\n",
       "      <td>...</td>\n",
       "      <td>https://pbs.twimg.com/profile_images/655134724...</td>\n",
       "      <td>0</td>\n",
       "      <td>C0DEED</td>\n",
       "      <td>I think for my APUSH creative project I'm goin...</td>\n",
       "      <td>NaN</td>\n",
       "      <td>2922</td>\n",
       "      <td>10/26/2015 13:19</td>\n",
       "      <td>6.590000e+17</td>\n",
       "      <td>NaN</td>\n",
       "      <td>NaN</td>\n",
       "    </tr>\n",
       "  </tbody>\n",
       "</table>\n",
       "<p>13926 rows × 26 columns</p>\n",
       "</div>"
      ],
      "text/plain": [
       "        _unit_id  _golden _unit_state  _trusted_judgments _last_judgment_at  \\\n",
       "0      815719226    False   finalized                   3  10/26/2015 23:24   \n",
       "1      815719227    False   finalized                   3  10/26/2015 23:30   \n",
       "3      815719229    False   finalized                   3  10/26/2015 23:10   \n",
       "4      815719230    False   finalized                   3   10/27/2015 1:15   \n",
       "5      815719231    False   finalized                   3   10/27/2015 1:47   \n",
       "...          ...      ...         ...                 ...               ...   \n",
       "20044  815756767     True      golden                 227               NaN   \n",
       "20045  815757572     True      golden                 259               NaN   \n",
       "20046  815757681     True      golden                 248               NaN   \n",
       "20047  815757830     True      golden                 264               NaN   \n",
       "20049  815757985     True      golden                 249               NaN   \n",
       "\n",
       "       gender  gender:confidence profile_yn  profile_yn:confidence  \\\n",
       "0        male                1.0        yes                    1.0   \n",
       "1        male                1.0        yes                    1.0   \n",
       "3        male                1.0        yes                    1.0   \n",
       "4      female                1.0        yes                    1.0   \n",
       "5      female                1.0        yes                    1.0   \n",
       "...       ...                ...        ...                    ...   \n",
       "20044  female                1.0        yes                    1.0   \n",
       "20045  female                1.0        yes                    1.0   \n",
       "20046    male                1.0        yes                    1.0   \n",
       "20047    male                1.0        yes                    1.0   \n",
       "20049  female                1.0        yes                    1.0   \n",
       "\n",
       "               created  ...  \\\n",
       "0       12/5/2013 1:48  ...   \n",
       "1      10/1/2012 13:51  ...   \n",
       "3      6/11/2009 22:39  ...   \n",
       "4      4/16/2014 13:23  ...   \n",
       "5      3/11/2010 18:14  ...   \n",
       "...                ...  ...   \n",
       "20044   6/11/2014 1:55  ...   \n",
       "20045   8/5/2015 21:16  ...   \n",
       "20046  8/15/2012 21:17  ...   \n",
       "20047    9/3/2012 1:17  ...   \n",
       "20049  4/14/2014 17:22  ...   \n",
       "\n",
       "                                            profileimage  retweet_count  \\\n",
       "0      https://pbs.twimg.com/profile_images/414342229...              0   \n",
       "1      https://pbs.twimg.com/profile_images/539604221...              0   \n",
       "3      https://pbs.twimg.com/profile_images/259703936...              0   \n",
       "4      https://pbs.twimg.com/profile_images/564094871...              0   \n",
       "5      https://pbs.twimg.com/profile_images/656336865...              0   \n",
       "...                                                  ...            ...   \n",
       "20044  https://pbs.twimg.com/profile_images/643483977...              0   \n",
       "20045  https://pbs.twimg.com/profile_images/656793310...              0   \n",
       "20046  https://pbs.twimg.com/profile_images/639815429...              0   \n",
       "20047  https://pbs.twimg.com/profile_images/655473271...              0   \n",
       "20049  https://pbs.twimg.com/profile_images/655134724...              0   \n",
       "\n",
       "      sidebar_color                                               text  \\\n",
       "0            FFFFFF  Robbie E Responds To Critics After Win Against...   \n",
       "1            C0DEED  ÛÏIt felt like they were my friends and I was...   \n",
       "3            C0DEED  Hi @JordanSpieth - Looking at the url - do you...   \n",
       "4                 0  Watching Neighbours on Sky+ catching up with t...   \n",
       "5                 0  Ive seen people on the train with lamps, chair...   \n",
       "...             ...                                                ...   \n",
       "20044        C0DEED  Need A Ride Home From Practice _Ù÷Ô_Ù÷Ô_Ù÷ÔAnd...   \n",
       "20045        C0DEED  @lookupondeath ...Fine, and I'll drink tea too...   \n",
       "20046             0  Greg Hardy you a good player and all but don't...   \n",
       "20047        C0DEED  You can miss people and still never want to se...   \n",
       "20049        C0DEED  I think for my APUSH creative project I'm goin...   \n",
       "\n",
       "      tweet_coord tweet_count     tweet_created      tweet_id  \\\n",
       "0             NaN      110964  10/26/2015 12:40  6.590000e+17   \n",
       "1             NaN        7471  10/26/2015 12:40  6.590000e+17   \n",
       "3             NaN        1693  10/26/2015 12:40  6.590000e+17   \n",
       "4             NaN       31462  10/26/2015 12:40  6.590000e+17   \n",
       "5             NaN       20036  10/26/2015 12:40  6.590000e+17   \n",
       "...           ...         ...               ...           ...   \n",
       "20044         NaN        6669  10/26/2015 13:19  6.590000e+17   \n",
       "20045         NaN         783  10/26/2015 13:20  6.590000e+17   \n",
       "20046         NaN       13523  10/26/2015 12:40  6.590000e+17   \n",
       "20047         NaN       26419  10/26/2015 13:20  6.590000e+17   \n",
       "20049         NaN        2922  10/26/2015 13:19  6.590000e+17   \n",
       "\n",
       "        tweet_location               user_timezone  \n",
       "0      main; @Kan1shk3                     Chennai  \n",
       "1                  NaN  Eastern Time (US & Canada)  \n",
       "3        Palo Alto, CA  Pacific Time (US & Canada)  \n",
       "4                  NaN                         NaN  \n",
       "5      New York Gritty  Central Time (US & Canada)  \n",
       "...                ...                         ...  \n",
       "20044              NaN                         NaN  \n",
       "20045       Verona ªÁ                         NaN  \n",
       "20046  Kansas City, MO                         NaN  \n",
       "20047   Lagos Nigeria                          NaN  \n",
       "20049              NaN                         NaN  \n",
       "\n",
       "[13926 rows x 26 columns]"
      ]
     },
     "execution_count": 22,
     "metadata": {},
     "output_type": "execute_result"
    }
   ],
   "source": [
    "dataset1.replace('NaNs', np.nan)"
   ]
  },
  {
   "cell_type": "code",
   "execution_count": 23,
   "id": "cff4143f",
   "metadata": {},
   "outputs": [],
   "source": [
    "import re \n",
    "def modify(clean_txt):\n",
    "    \n",
    "    clean_txt = str(clean_txt)\n",
    "    clean_txt = clean_txt.lower()\n",
    "        \n",
    "    clean_txt = re.sub('\\s\\W',' ',clean_txt)\n",
    "    clean_txt = re.sub('\\W\\s',' ',clean_txt)\n",
    "        \n",
    "    clean_txt = re.sub('\\s+',' ',clean_txt)\n",
    "    clean_txt = re.sub('[^\\x00-\\x7F]+',' ', clean_txt)\n",
    "    clean_txt = re.sub('https?:\\/\\/.*[\\r\\n]*', ' ', clean_txt)\n",
    "    clean_txt = re.sub('[?!+%{}:;.,\"\\'()\\[\\]_]', '',clean_txt)\n",
    "    clean_txt = re.sub('\\s+',' ',clean_txt)\n",
    "    return clean_txt\n",
    "\n",
    "dataset1['new_text'] = [modify(t) for t in dataset1['text']]\n",
    "dataset1['new_description'] = [modify(t) for t in dataset1['description']]"
   ]
  },
  {
   "cell_type": "code",
   "execution_count": 24,
   "id": "ee3fb2a2",
   "metadata": {},
   "outputs": [
    {
     "data": {
      "text/plain": [
       "0        robbie e responds to critics after win against...\n",
       "1         it felt like they were my friends and i was l...\n",
       "3        hi jordanspieth looking at the url do you use ...\n",
       "4        watching neighbours on sky catching up with th...\n",
       "5        ive seen people on the train with lamps chairs...\n",
       "                               ...                        \n",
       "20044    need a ride home from practice and its raining...\n",
       "20045    @lookupondeath fine and ill drink tea too i lo...\n",
       "20046    greg hardy you a good player and all but dont ...\n",
       "20047    you can miss people and still never want to se...\n",
       "20049    i think for my apush creative project im going...\n",
       "Name: new_text, Length: 13926, dtype: object"
      ]
     },
     "execution_count": 24,
     "metadata": {},
     "output_type": "execute_result"
    }
   ],
   "source": [
    "dataset1['new_text']"
   ]
  },
  {
   "cell_type": "code",
   "execution_count": 25,
   "id": "923f52b1",
   "metadata": {},
   "outputs": [
    {
     "data": {
      "text/plain": [
       "0                                     i sing my own rhythm\n",
       "1        im the author of novels filled with family dra...\n",
       "3        mobile guy 49ers shazam google kleiner perkins...\n",
       "4        ricky wilson the best frontman/kaiser chiefs t...\n",
       "5                                         you dont know me\n",
       "                               ...                        \n",
       "20044                                    i love memyself&i\n",
       "20045                                                   rp\n",
       "20046    whatever you like its not a problem at all 9/1...\n",
       "20047    #teambarcelona you look lost so you should fol...\n",
       "20049                        teamwork makes the dream work\n",
       "Name: new_description, Length: 13926, dtype: object"
      ]
     },
     "execution_count": 25,
     "metadata": {},
     "output_type": "execute_result"
    }
   ],
   "source": [
    "dataset1['new_description']"
   ]
  },
  {
   "cell_type": "code",
   "execution_count": 26,
   "id": "ff86d3e7",
   "metadata": {},
   "outputs": [
    {
     "data": {
      "text/plain": [
       "_unit_id                 0\n",
       "_golden                  0\n",
       "_unit_state              0\n",
       "_trusted_judgments       0\n",
       "_last_judgment_at        0\n",
       "gender                   0\n",
       "gender:confidence        0\n",
       "profile_yn               0\n",
       "profile_yn:confidence    0\n",
       "created                  0\n",
       "description              0\n",
       "fav_number               0\n",
       "gender_gold              0\n",
       "link_color               0\n",
       "name                     0\n",
       "profile_yn_gold          0\n",
       "profileimage             0\n",
       "retweet_count            0\n",
       "sidebar_color            0\n",
       "text                     0\n",
       "tweet_coord              0\n",
       "tweet_count              0\n",
       "tweet_created            0\n",
       "tweet_id                 0\n",
       "tweet_location           0\n",
       "user_timezone            0\n",
       "new_text                 0\n",
       "new_description          0\n",
       "dtype: int64"
      ]
     },
     "execution_count": 26,
     "metadata": {},
     "output_type": "execute_result"
    }
   ],
   "source": [
    "dataset1.isna().sum()"
   ]
  },
  {
   "cell_type": "code",
   "execution_count": 27,
   "id": "a9f5f44d",
   "metadata": {},
   "outputs": [],
   "source": [
    "dataset=dataset1.drop(['link_color','_unit_id','_golden','_unit_state','_trusted_judgments','_last_judgment_at','gender:confidence','profile_yn','profile_yn:confidence','created','sidebar_color','text','tweet_coord','tweet_count','tweet_created','tweet_id','tweet_location','user_timezone','description','fav_number','gender_gold','name', 'profile_yn_gold','profileimage','retweet_count'],axis=1)"
   ]
  },
  {
   "cell_type": "markdown",
   "id": "7d88ab44",
   "metadata": {},
   "source": [
    "# 2) Create a dataframe and print the first and last seven records of your dataset. (PRINTING IT AGAIN AFTER CLEANING THE DATA)"
   ]
  },
  {
   "cell_type": "code",
   "execution_count": 28,
   "id": "35f477d9",
   "metadata": {},
   "outputs": [
    {
     "data": {
      "text/html": [
       "<div>\n",
       "<style scoped>\n",
       "    .dataframe tbody tr th:only-of-type {\n",
       "        vertical-align: middle;\n",
       "    }\n",
       "\n",
       "    .dataframe tbody tr th {\n",
       "        vertical-align: top;\n",
       "    }\n",
       "\n",
       "    .dataframe thead th {\n",
       "        text-align: right;\n",
       "    }\n",
       "</style>\n",
       "<table border=\"1\" class=\"dataframe\">\n",
       "  <thead>\n",
       "    <tr style=\"text-align: right;\">\n",
       "      <th></th>\n",
       "      <th>gender</th>\n",
       "      <th>new_text</th>\n",
       "      <th>new_description</th>\n",
       "    </tr>\n",
       "  </thead>\n",
       "  <tbody>\n",
       "    <tr>\n",
       "      <th>0</th>\n",
       "      <td>male</td>\n",
       "      <td>robbie e responds to critics after win against...</td>\n",
       "      <td>i sing my own rhythm</td>\n",
       "    </tr>\n",
       "    <tr>\n",
       "      <th>1</th>\n",
       "      <td>male</td>\n",
       "      <td>it felt like they were my friends and i was l...</td>\n",
       "      <td>im the author of novels filled with family dra...</td>\n",
       "    </tr>\n",
       "    <tr>\n",
       "      <th>3</th>\n",
       "      <td>male</td>\n",
       "      <td>hi jordanspieth looking at the url do you use ...</td>\n",
       "      <td>mobile guy 49ers shazam google kleiner perkins...</td>\n",
       "    </tr>\n",
       "    <tr>\n",
       "      <th>4</th>\n",
       "      <td>female</td>\n",
       "      <td>watching neighbours on sky catching up with th...</td>\n",
       "      <td>ricky wilson the best frontman/kaiser chiefs t...</td>\n",
       "    </tr>\n",
       "    <tr>\n",
       "      <th>5</th>\n",
       "      <td>female</td>\n",
       "      <td>ive seen people on the train with lamps chairs...</td>\n",
       "      <td>you dont know me</td>\n",
       "    </tr>\n",
       "    <tr>\n",
       "      <th>6</th>\n",
       "      <td>brand</td>\n",
       "      <td>@bpackengineer thank you for your patience whi...</td>\n",
       "      <td>a global marketplace for images videos and mus...</td>\n",
       "    </tr>\n",
       "    <tr>\n",
       "      <th>7</th>\n",
       "      <td>male</td>\n",
       "      <td>gala bingo clubs bought for 241m the uks large...</td>\n",
       "      <td>the secret of getting ahead is getting started</td>\n",
       "    </tr>\n",
       "  </tbody>\n",
       "</table>\n",
       "</div>"
      ],
      "text/plain": [
       "   gender                                           new_text  \\\n",
       "0    male  robbie e responds to critics after win against...   \n",
       "1    male   it felt like they were my friends and i was l...   \n",
       "3    male  hi jordanspieth looking at the url do you use ...   \n",
       "4  female  watching neighbours on sky catching up with th...   \n",
       "5  female  ive seen people on the train with lamps chairs...   \n",
       "6   brand  @bpackengineer thank you for your patience whi...   \n",
       "7    male  gala bingo clubs bought for 241m the uks large...   \n",
       "\n",
       "                                     new_description  \n",
       "0                               i sing my own rhythm  \n",
       "1  im the author of novels filled with family dra...  \n",
       "3  mobile guy 49ers shazam google kleiner perkins...  \n",
       "4  ricky wilson the best frontman/kaiser chiefs t...  \n",
       "5                                   you dont know me  \n",
       "6  a global marketplace for images videos and mus...  \n",
       "7     the secret of getting ahead is getting started  "
      ]
     },
     "execution_count": 28,
     "metadata": {},
     "output_type": "execute_result"
    }
   ],
   "source": [
    "dataset.head(7)"
   ]
  },
  {
   "cell_type": "code",
   "execution_count": 29,
   "id": "a7d959c5",
   "metadata": {},
   "outputs": [
    {
     "data": {
      "text/html": [
       "<div>\n",
       "<style scoped>\n",
       "    .dataframe tbody tr th:only-of-type {\n",
       "        vertical-align: middle;\n",
       "    }\n",
       "\n",
       "    .dataframe tbody tr th {\n",
       "        vertical-align: top;\n",
       "    }\n",
       "\n",
       "    .dataframe thead th {\n",
       "        text-align: right;\n",
       "    }\n",
       "</style>\n",
       "<table border=\"1\" class=\"dataframe\">\n",
       "  <thead>\n",
       "    <tr style=\"text-align: right;\">\n",
       "      <th></th>\n",
       "      <th>gender</th>\n",
       "      <th>new_text</th>\n",
       "      <th>new_description</th>\n",
       "    </tr>\n",
       "  </thead>\n",
       "  <tbody>\n",
       "    <tr>\n",
       "      <th>20041</th>\n",
       "      <td>brand</td>\n",
       "      <td>for stan and lisa has coffee cup at</td>\n",
       "      <td>when families go through divorce its helpful f...</td>\n",
       "    </tr>\n",
       "    <tr>\n",
       "      <th>20043</th>\n",
       "      <td>male</td>\n",
       "      <td>game faggot and venison loin crisp spelt and q...</td>\n",
       "      <td>head chef chez bruce loves cars and bicycles 9...</td>\n",
       "    </tr>\n",
       "    <tr>\n",
       "      <th>20044</th>\n",
       "      <td>female</td>\n",
       "      <td>need a ride home from practice and its raining...</td>\n",
       "      <td>i love memyself&amp;i</td>\n",
       "    </tr>\n",
       "    <tr>\n",
       "      <th>20045</th>\n",
       "      <td>female</td>\n",
       "      <td>@lookupondeath fine and ill drink tea too i lo...</td>\n",
       "      <td>rp</td>\n",
       "    </tr>\n",
       "    <tr>\n",
       "      <th>20046</th>\n",
       "      <td>male</td>\n",
       "      <td>greg hardy you a good player and all but dont ...</td>\n",
       "      <td>whatever you like its not a problem at all 9/1...</td>\n",
       "    </tr>\n",
       "    <tr>\n",
       "      <th>20047</th>\n",
       "      <td>male</td>\n",
       "      <td>you can miss people and still never want to se...</td>\n",
       "      <td>#teambarcelona you look lost so you should fol...</td>\n",
       "    </tr>\n",
       "    <tr>\n",
       "      <th>20049</th>\n",
       "      <td>female</td>\n",
       "      <td>i think for my apush creative project im going...</td>\n",
       "      <td>teamwork makes the dream work</td>\n",
       "    </tr>\n",
       "  </tbody>\n",
       "</table>\n",
       "</div>"
      ],
      "text/plain": [
       "       gender                                           new_text  \\\n",
       "20041   brand               for stan and lisa has coffee cup at    \n",
       "20043    male  game faggot and venison loin crisp spelt and q...   \n",
       "20044  female  need a ride home from practice and its raining...   \n",
       "20045  female  @lookupondeath fine and ill drink tea too i lo...   \n",
       "20046    male  greg hardy you a good player and all but dont ...   \n",
       "20047    male  you can miss people and still never want to se...   \n",
       "20049  female  i think for my apush creative project im going...   \n",
       "\n",
       "                                         new_description  \n",
       "20041  when families go through divorce its helpful f...  \n",
       "20043  head chef chez bruce loves cars and bicycles 9...  \n",
       "20044                                  i love memyself&i  \n",
       "20045                                                 rp  \n",
       "20046  whatever you like its not a problem at all 9/1...  \n",
       "20047  #teambarcelona you look lost so you should fol...  \n",
       "20049                      teamwork makes the dream work  "
      ]
     },
     "execution_count": 29,
     "metadata": {},
     "output_type": "execute_result"
    }
   ],
   "source": [
    "dataset.tail(7)"
   ]
  },
  {
   "cell_type": "markdown",
   "id": "10bb2b65",
   "metadata": {},
   "source": [
    "# 3) Print the class labels. "
   ]
  },
  {
   "cell_type": "code",
   "execution_count": 30,
   "id": "c156e4db",
   "metadata": {},
   "outputs": [
    {
     "name": "stdout",
     "output_type": "stream",
     "text": [
      "Index(['new_text', 'new_description'], dtype='object')\n",
      "(13926, 2)\n"
     ]
    }
   ],
   "source": [
    "dataX = dataset.drop([\"gender\"], axis=1)\n",
    "print(dataX.columns)\n",
    "print(dataX.shape)"
   ]
  },
  {
   "cell_type": "code",
   "execution_count": 31,
   "id": "8979151f",
   "metadata": {},
   "outputs": [
    {
     "data": {
      "text/plain": [
       "(13926,)"
      ]
     },
     "execution_count": 31,
     "metadata": {},
     "output_type": "execute_result"
    }
   ],
   "source": [
    "dataY = dataset[\"gender\"] # Target variable             \n",
    "dataY.shape"
   ]
  },
  {
   "cell_type": "code",
   "execution_count": 32,
   "id": "7c4a5521",
   "metadata": {},
   "outputs": [
    {
     "data": {
      "text/plain": [
       "female     5367\n",
       "male       4653\n",
       "brand      3784\n",
       "unknown     122\n",
       "Name: gender, dtype: int64"
      ]
     },
     "execution_count": 32,
     "metadata": {},
     "output_type": "execute_result"
    }
   ],
   "source": [
    "dataset[\"gender\"].value_counts()"
   ]
  },
  {
   "cell_type": "markdown",
   "id": "219eca31",
   "metadata": {},
   "source": [
    "# 4) Split your dataset 60% for training, 20 for validation and 20% for testing the classifier. Use random state as 2022"
   ]
  },
  {
   "cell_type": "code",
   "execution_count": 33,
   "id": "c2c311e3",
   "metadata": {},
   "outputs": [
    {
     "name": "stdout",
     "output_type": "stream",
     "text": [
      "(8355, 2) (2786, 2) (2785, 2)\n",
      "(8355,) (2786,) (2785,)\n"
     ]
    }
   ],
   "source": [
    "x_train, x_test, y_train, y_test = train_test_split(dataX, dataY,test_size=0.2, random_state = 2022)\n",
    "x_train, x_val, y_train, y_val = train_test_split(x_train, y_train, test_size=0.25, random_state= 2022) \n",
    "print(x_train.shape, x_test.shape, x_val.shape)\n",
    "print(y_train.shape, y_test.shape, y_val.shape)"
   ]
  },
  {
   "cell_type": "markdown",
   "id": "82fa644e",
   "metadata": {},
   "source": [
    "# DecisionTree "
   ]
  },
  {
   "cell_type": "markdown",
   "id": "3a3e2812",
   "metadata": {},
   "source": [
    "# 1) Use gini and entropy to measure the quality of a split. "
   ]
  },
  {
   "cell_type": "code",
   "execution_count": 34,
   "id": "73e64325",
   "metadata": {},
   "outputs": [
    {
     "name": "stderr",
     "output_type": "stream",
     "text": [
      "C:\\Users\\Anu\\anaconda3\\lib\\site-packages\\category_encoders\\utils.py:21: FutureWarning: is_categorical is deprecated and will be removed in a future version.  Use is_categorical_dtype instead\n",
      "  elif pd.api.types.is_categorical(cols):\n"
     ]
    }
   ],
   "source": [
    "import category_encoders as ce\n",
    "en = ce.OrdinalEncoder(cols=['new_text','new_description'])    \n",
    "x_train = en.fit_transform(x_train)\n",
    "x_test = en.transform(x_test)"
   ]
  },
  {
   "cell_type": "code",
   "execution_count": 35,
   "id": "b8eac752",
   "metadata": {},
   "outputs": [],
   "source": [
    "#For the decision tree, we are using two criterias, gigni and entropy. tree_gini--> defines the classifier for gini index and we fit, then predict that into target_pred_gini. We get the accuracy. \n",
    "#Similarly, tree_entropy defines the classifier for entropy index and we fit, then predict that into target_pred_entropy. We get the accuracy."
   ]
  },
  {
   "cell_type": "code",
   "execution_count": 36,
   "id": "f3d4dc95",
   "metadata": {},
   "outputs": [],
   "source": [
    "from sklearn.tree import DecisionTreeClassifier\n",
    "from sklearn.metrics import accuracy_score"
   ]
  },
  {
   "cell_type": "code",
   "execution_count": 37,
   "id": "40c53a08",
   "metadata": {},
   "outputs": [
    {
     "name": "stdout",
     "output_type": "stream",
     "text": [
      "Model accuracy score with criterion gini index: 0.2441\n"
     ]
    }
   ],
   "source": [
    "tree_gini = DecisionTreeClassifier(criterion='gini', max_depth=3, random_state=2022)\n",
    "tree_gini.fit(x_train, y_train)\n",
    "target_pred_gini = tree_gini.predict(x_test)\n",
    "print('Model accuracy score with criterion gini index: {0:0.4f}'. format(accuracy_score(y_test, target_pred_gini)))"
   ]
  },
  {
   "cell_type": "code",
   "execution_count": 38,
   "id": "9e847d44",
   "metadata": {},
   "outputs": [
    {
     "name": "stdout",
     "output_type": "stream",
     "text": [
      "Model accuracy score with criterion entropy index: 0.4368\n"
     ]
    }
   ],
   "source": [
    "tree_entropy = DecisionTreeClassifier(criterion='entropy', max_depth=3, random_state=2022)\n",
    "tree_entropy.fit(x_train, y_train)\n",
    "target_pred_entropy = tree_entropy.predict(x_test)\n",
    "print('Model accuracy score with criterion entropy index: {0:0.4f}'. format(accuracy_score(y_test, target_pred_entropy)))"
   ]
  },
  {
   "cell_type": "markdown",
   "id": "3f890b39",
   "metadata": {},
   "source": [
    "# 3) Calculate and print the confusion matrix (use graphics instead showing a 2D array), and the classification Report (includes: precision, recall, f1-score, and support. Explain the confusion matrix and classification report in your own words). Do not copy from the internet."
   ]
  },
  {
   "cell_type": "code",
   "execution_count": 39,
   "id": "3efbecc6",
   "metadata": {},
   "outputs": [
    {
     "name": "stdout",
     "output_type": "stream",
     "text": [
      "Confusion matrix\n",
      "\n",
      " [[ 638   56   26    0]\n",
      " [1053   28   16    0]\n",
      " [ 913   20   14    0]\n",
      " [  19    1    2    0]]\n",
      "************************2D array*****************************************\n"
     ]
    },
    {
     "data": {
      "text/plain": [
       "<AxesSubplot:>"
      ]
     },
     "execution_count": 39,
     "metadata": {},
     "output_type": "execute_result"
    },
    {
     "data": {
      "image/png": "[encoded data removed]",
      "text/plain": [
       "<Figure size 432x288 with 1 Axes>"
      ]
     },
     "metadata": {
      "needs_background": "light"
     },
     "output_type": "display_data"
    }
   ],
   "source": [
    "from sklearn.metrics import confusion_matrix\n",
    "#confusion matrix for gini \n",
    "from sklearn.metrics import confusion_matrix\n",
    "cnf= confusion_matrix(y_test, target_pred_gini)\n",
    "print('Confusion matrix\\n\\n', cnf)\n",
    "print(\"************************2D array*****************************************\")\n",
    "cnf_matrix = confusion_matrix(y_test, target_pred_gini)\n",
    "sns.heatmap(cnf_matrix, square=True, annot=True, cmap='RdYlGn', fmt='d', cbar=False)\n",
    "\n"
   ]
  },
  {
   "cell_type": "markdown",
   "id": "3427ad2f",
   "metadata": {},
   "source": [
    "# 4) Print the decision tree visualization for 3 different depths using given libraries.  "
   ]
  },
  {
   "cell_type": "markdown",
   "id": "0131a158",
   "metadata": {},
   "source": [
    "### Tree for GINI "
   ]
  },
  {
   "cell_type": "code",
   "execution_count": 40,
   "id": "0f1abbdd",
   "metadata": {},
   "outputs": [
    {
     "data": {
      "text/plain": [
       "[Text(334.8, 380.52, 'X[0] <= 561.5\\ngini = 0.666\\nsamples = 8355\\nvalue = [2277, 3210, 2791, 77]'),\n",
       " Text(167.4, 271.8, 'X[1] <= 34.5\\ngini = 0.641\\nsamples = 1059\\nvalue = [512, 286, 241, 20]'),\n",
       " Text(83.7, 163.07999999999998, 'X[0] <= 414.5\\ngini = 0.466\\nsamples = 430\\nvalue = [302, 79, 34, 15]'),\n",
       " Text(41.85, 54.360000000000014, 'gini = 0.41\\nsamples = 325\\nvalue = [244, 45, 26, 10]'),\n",
       " Text(125.55000000000001, 54.360000000000014, 'gini = 0.582\\nsamples = 105\\nvalue = [58, 34, 8, 5]'),\n",
       " Text(251.10000000000002, 163.07999999999998, 'X[1] <= 473.5\\ngini = 0.672\\nsamples = 629\\nvalue = [210, 207, 207, 5]'),\n",
       " Text(209.25, 54.360000000000014, 'gini = 0.659\\nsamples = 447\\nvalue = [111, 165, 169, 2]'),\n",
       " Text(292.95, 54.360000000000014, 'gini = 0.607\\nsamples = 182\\nvalue = [99, 42, 38, 3]'),\n",
       " Text(502.20000000000005, 271.8, 'X[1] <= 1068.5\\ngini = 0.659\\nsamples = 7296\\nvalue = [1765, 2924, 2550, 57]'),\n",
       " Text(418.5, 163.07999999999998, 'X[0] <= 907.5\\ngini = 0.655\\nsamples = 1594\\nvalue = [378, 698, 496, 22]'),\n",
       " Text(376.65000000000003, 54.360000000000014, 'gini = 0.664\\nsamples = 366\\nvalue = [98, 130, 136, 2]'),\n",
       " Text(460.35, 54.360000000000014, 'gini = 0.648\\nsamples = 1228\\nvalue = [280, 568, 360, 20]'),\n",
       " Text(585.9, 163.07999999999998, 'X[0] <= 1253.5\\ngini = 0.659\\nsamples = 5702\\nvalue = [1387, 2226, 2054, 35]'),\n",
       " Text(544.0500000000001, 54.360000000000014, 'gini = 0.616\\nsamples = 55\\nvalue = [27, 5, 20, 3]'),\n",
       " Text(627.75, 54.360000000000014, 'gini = 0.658\\nsamples = 5647\\nvalue = [1360, 2221, 2034, 32]')]"
      ]
     },
     "execution_count": 40,
     "metadata": {},
     "output_type": "execute_result"
    },
    {
     "data": {
      "image/png": "[encoded data removed]",
      "text/plain": [
       "<Figure size 864x576 with 1 Axes>"
      ]
     },
     "metadata": {
      "needs_background": "light"
     },
     "output_type": "display_data"
    }
   ],
   "source": [
    "from sklearn import tree\n",
    "plt.figure(figsize=(12,8))\n",
    "tree.plot_tree(tree_gini.fit(x_train, y_train))\n",
    "\n"
   ]
  },
  {
   "cell_type": "markdown",
   "id": "4d1169f3",
   "metadata": {},
   "source": [
    "### Tree for Entropy"
   ]
  },
  {
   "cell_type": "code",
   "execution_count": 41,
   "id": "1f18b396",
   "metadata": {},
   "outputs": [
    {
     "data": {
      "text/plain": [
       "[Text(334.8, 380.52, 'X[0] <= 561.5\\nentropy = 1.632\\nsamples = 8355\\nvalue = [2277, 3210, 2791, 77]'),\n",
       " Text(167.4, 271.8, 'X[1] <= 34.5\\nentropy = 1.611\\nsamples = 1059\\nvalue = [512, 286, 241, 20]'),\n",
       " Text(83.7, 163.07999999999998, 'X[0] <= 21.5\\nentropy = 1.265\\nsamples = 430\\nvalue = [302, 79, 34, 15]'),\n",
       " Text(41.85, 54.360000000000014, 'entropy = 1.582\\nsamples = 22\\nvalue = [7, 8, 7, 0]'),\n",
       " Text(125.55000000000001, 54.360000000000014, 'entropy = 1.212\\nsamples = 408\\nvalue = [295, 71, 27, 15]'),\n",
       " Text(251.10000000000002, 163.07999999999998, 'X[1] <= 473.5\\nentropy = 1.639\\nsamples = 629\\nvalue = [210, 207, 207, 5]'),\n",
       " Text(209.25, 54.360000000000014, 'entropy = 1.595\\nsamples = 447\\nvalue = [111, 165, 169, 2]'),\n",
       " Text(292.95, 54.360000000000014, 'entropy = 1.535\\nsamples = 182\\nvalue = [99, 42, 38, 3]'),\n",
       " Text(502.20000000000005, 271.8, 'X[1] <= 1135.5\\nentropy = 1.609\\nsamples = 7296\\nvalue = [1765, 2924, 2550, 57]'),\n",
       " Text(418.5, 163.07999999999998, 'X[1] <= 1069.5\\nentropy = 1.636\\nsamples = 1681\\nvalue = [415, 721, 520, 25]'),\n",
       " Text(376.65000000000003, 54.360000000000014, 'entropy = 1.623\\nsamples = 1595\\nvalue = [378, 698, 497, 22]'),\n",
       " Text(460.35, 54.360000000000014, 'entropy = 1.71\\nsamples = 86\\nvalue = [37, 23, 23, 3]'),\n",
       " Text(585.9, 163.07999999999998, 'X[0] <= 1257.0\\nentropy = 1.597\\nsamples = 5615\\nvalue = [1350, 2203, 2030, 32]'),\n",
       " Text(544.0500000000001, 54.360000000000014, 'entropy = 1.335\\nsamples = 28\\nvalue = [16, 1, 10, 1]'),\n",
       " Text(627.75, 54.360000000000014, 'entropy = 1.595\\nsamples = 5587\\nvalue = [1334, 2202, 2020, 31]')]"
      ]
     },
     "execution_count": 41,
     "metadata": {},
     "output_type": "execute_result"
    },
    {
     "data": {
      "image/png": "[encoded data removed]",
      "text/plain": [
       "<Figure size 864x576 with 1 Axes>"
      ]
     },
     "metadata": {
      "needs_background": "light"
     },
     "output_type": "display_data"
    }
   ],
   "source": [
    "plt.figure(figsize=(12,8))\n",
    "tree.plot_tree(tree_entropy.fit(x_train, y_train)) "
   ]
  },
  {
   "cell_type": "markdown",
   "id": "b07b2baa",
   "metadata": {},
   "source": [
    "# Naive Bayes "
   ]
  },
  {
   "cell_type": "markdown",
   "id": "8545cab6",
   "metadata": {},
   "source": [
    "# 1) Use all types of Naive bayes classifier present in the sklearn to predict the test data. If you are not able to implement any of the classifier explain in detail why it can't be done."
   ]
  },
  {
   "cell_type": "code",
   "execution_count": 42,
   "id": "d483f815",
   "metadata": {},
   "outputs": [],
   "source": [
    "#We use a varibale for calling the perdefined function and we fit and predict the mdoel for all the types of naives classifiers. "
   ]
  },
  {
   "cell_type": "code",
   "execution_count": 43,
   "id": "4a6b5f1c",
   "metadata": {},
   "outputs": [
    {
     "name": "stdout",
     "output_type": "stream",
     "text": [
      "Number of mislabeled points out of a total 2786 points : 2083\n"
     ]
    }
   ],
   "source": [
    "from sklearn.naive_bayes import GaussianNB\n",
    "gaussian = GaussianNB()\n",
    "target_pred = gaussian.fit(x_train, y_train).predict(x_test)\n",
    "print(\"Number of mislabeled points out of a total %d points : %d\"% (x_test.shape[0], (y_test != target_pred).sum()))"
   ]
  },
  {
   "cell_type": "code",
   "execution_count": 44,
   "id": "2964b8bd",
   "metadata": {},
   "outputs": [
    {
     "data": {
      "text/plain": [
       "39.22"
      ]
     },
     "execution_count": 44,
     "metadata": {},
     "output_type": "execute_result"
    }
   ],
   "source": [
    "gaussian = GaussianNB()\n",
    "gaussian.fit(x_train, y_train)\n",
    "target_pred_gaus = gaussian.predict(x_test)\n",
    "accuracy_gaussian = round(gaussian.score(x_train, y_train) * 100, 2)\n",
    "accuracy_gaussian"
   ]
  },
  {
   "cell_type": "code",
   "execution_count": 45,
   "id": "7bd62cd2",
   "metadata": {},
   "outputs": [
    {
     "data": {
      "text/plain": [
       "<AxesSubplot:>"
      ]
     },
     "execution_count": 45,
     "metadata": {},
     "output_type": "execute_result"
    },
    {
     "data": {
      "image/png": "[encoded data removed]",
      "text/plain": [
       "<Figure size 432x288 with 1 Axes>"
      ]
     },
     "metadata": {
      "needs_background": "light"
     },
     "output_type": "display_data"
    }
   ],
   "source": [
    "from sklearn.metrics import confusion_matrix\n",
    "cnf_matrix = confusion_matrix(y_test, target_pred_gaus)\n",
    "sns.heatmap(cnf_matrix, square=True, annot=True, cmap='RdYlGn', fmt='d', cbar=False)"
   ]
  },
  {
   "cell_type": "code",
   "execution_count": 46,
   "id": "38ad8984",
   "metadata": {},
   "outputs": [
    {
     "name": "stdout",
     "output_type": "stream",
     "text": [
      "              precision    recall  f1-score   support\n",
      "\n",
      "       brand       0.25      0.93      0.39       720\n",
      "      female       0.32      0.03      0.06      1097\n",
      "        male       0.00      0.00      0.00       947\n",
      "     unknown       0.00      0.00      0.00        22\n",
      "\n",
      "    accuracy                           0.25      2786\n",
      "   macro avg       0.14      0.24      0.11      2786\n",
      "weighted avg       0.19      0.25      0.12      2786\n",
      "\n"
     ]
    },
    {
     "name": "stderr",
     "output_type": "stream",
     "text": [
      "C:\\Users\\Anu\\anaconda3\\lib\\site-packages\\sklearn\\metrics\\_classification.py:1245: UndefinedMetricWarning: Precision and F-score are ill-defined and being set to 0.0 in labels with no predicted samples. Use `zero_division` parameter to control this behavior.\n",
      "  _warn_prf(average, modifier, msg_start, len(result))\n",
      "C:\\Users\\Anu\\anaconda3\\lib\\site-packages\\sklearn\\metrics\\_classification.py:1245: UndefinedMetricWarning: Precision and F-score are ill-defined and being set to 0.0 in labels with no predicted samples. Use `zero_division` parameter to control this behavior.\n",
      "  _warn_prf(average, modifier, msg_start, len(result))\n",
      "C:\\Users\\Anu\\anaconda3\\lib\\site-packages\\sklearn\\metrics\\_classification.py:1245: UndefinedMetricWarning: Precision and F-score are ill-defined and being set to 0.0 in labels with no predicted samples. Use `zero_division` parameter to control this behavior.\n",
      "  _warn_prf(average, modifier, msg_start, len(result))\n"
     ]
    }
   ],
   "source": [
    "from sklearn.metrics import classification_report\n",
    "print(classification_report(y_test, target_pred))"
   ]
  },
  {
   "cell_type": "code",
   "execution_count": 47,
   "id": "09ee3674",
   "metadata": {},
   "outputs": [
    {
     "data": {
      "text/plain": [
       "29.5"
      ]
     },
     "execution_count": 47,
     "metadata": {},
     "output_type": "execute_result"
    }
   ],
   "source": [
    "from sklearn.naive_bayes import MultinomialNB\n",
    "Multinomial = MultinomialNB()\n",
    "Multinomial.fit(x_train, y_train)\n",
    "target_pred_multi =  Multinomial.predict(x_test)\n",
    "Multinomial_acc = round(Multinomial.score(x_train, y_train) * 100, 2)\n",
    "Multinomial_acc"
   ]
  },
  {
   "cell_type": "code",
   "execution_count": 48,
   "id": "6b7b91a4",
   "metadata": {},
   "outputs": [
    {
     "data": {
      "text/plain": [
       "<AxesSubplot:>"
      ]
     },
     "execution_count": 48,
     "metadata": {},
     "output_type": "execute_result"
    },
    {
     "data": {
      "image/png": "[encoded data removed]",
      "text/plain": [
       "<Figure size 432x288 with 1 Axes>"
      ]
     },
     "metadata": {
      "needs_background": "light"
     },
     "output_type": "display_data"
    }
   ],
   "source": [
    "from sklearn.metrics import confusion_matrix\n",
    "cnf_matrix = confusion_matrix(y_test, target_pred_multi)\n",
    "sns.heatmap(cnf_matrix, square=True, annot=True, cmap='RdYlGn', fmt='d', cbar=False)"
   ]
  },
  {
   "cell_type": "code",
   "execution_count": 49,
   "id": "99ff313b",
   "metadata": {},
   "outputs": [
    {
     "name": "stdout",
     "output_type": "stream",
     "text": [
      "              precision    recall  f1-score   support\n",
      "\n",
      "       brand       0.00      0.00      0.00       720\n",
      "      female       0.42      0.80      0.55      1097\n",
      "        male       0.31      0.15      0.20       947\n",
      "     unknown       0.02      0.23      0.04        22\n",
      "\n",
      "    accuracy                           0.36      2786\n",
      "   macro avg       0.19      0.29      0.20      2786\n",
      "weighted avg       0.27      0.36      0.28      2786\n",
      "\n"
     ]
    },
    {
     "name": "stderr",
     "output_type": "stream",
     "text": [
      "C:\\Users\\Anu\\anaconda3\\lib\\site-packages\\sklearn\\metrics\\_classification.py:1245: UndefinedMetricWarning: Precision and F-score are ill-defined and being set to 0.0 in labels with no predicted samples. Use `zero_division` parameter to control this behavior.\n",
      "  _warn_prf(average, modifier, msg_start, len(result))\n",
      "C:\\Users\\Anu\\anaconda3\\lib\\site-packages\\sklearn\\metrics\\_classification.py:1245: UndefinedMetricWarning: Precision and F-score are ill-defined and being set to 0.0 in labels with no predicted samples. Use `zero_division` parameter to control this behavior.\n",
      "  _warn_prf(average, modifier, msg_start, len(result))\n",
      "C:\\Users\\Anu\\anaconda3\\lib\\site-packages\\sklearn\\metrics\\_classification.py:1245: UndefinedMetricWarning: Precision and F-score are ill-defined and being set to 0.0 in labels with no predicted samples. Use `zero_division` parameter to control this behavior.\n",
      "  _warn_prf(average, modifier, msg_start, len(result))\n"
     ]
    }
   ],
   "source": [
    "print(classification_report(y_test, target_pred_multi))"
   ]
  },
  {
   "cell_type": "code",
   "execution_count": 50,
   "id": "28a75376",
   "metadata": {},
   "outputs": [
    {
     "data": {
      "text/plain": [
       "38.42"
      ]
     },
     "execution_count": 50,
     "metadata": {},
     "output_type": "execute_result"
    }
   ],
   "source": [
    "from sklearn.naive_bayes import  BernoulliNB\n",
    "Bernoulli = BernoulliNB()\n",
    "Bernoulli.fit(x_train, y_train)\n",
    "target_pred_bern =  Bernoulli.predict(x_test)\n",
    "Bernoulli_acc = round(Bernoulli.score(x_train, y_train) * 100, 2)\n",
    "Bernoulli_acc"
   ]
  },
  {
   "cell_type": "code",
   "execution_count": 51,
   "id": "b5c2d8cf",
   "metadata": {},
   "outputs": [
    {
     "data": {
      "text/plain": [
       "<AxesSubplot:>"
      ]
     },
     "execution_count": 51,
     "metadata": {},
     "output_type": "execute_result"
    },
    {
     "data": {
      "image/png": "[encoded data removed]",
      "text/plain": [
       "<Figure size 432x288 with 1 Axes>"
      ]
     },
     "metadata": {
      "needs_background": "light"
     },
     "output_type": "display_data"
    }
   ],
   "source": [
    "from sklearn.metrics import confusion_matrix\n",
    "matrix_confusion = confusion_matrix(y_test, target_pred_bern)\n",
    "sns.heatmap(matrix_confusion, square=True, annot=True, cmap='RdYlGn', fmt='d', cbar=False)"
   ]
  },
  {
   "cell_type": "code",
   "execution_count": 52,
   "id": "df269d0a",
   "metadata": {},
   "outputs": [
    {
     "name": "stdout",
     "output_type": "stream",
     "text": [
      "              precision    recall  f1-score   support\n",
      "\n",
      "       brand       0.00      0.00      0.00       720\n",
      "      female       0.32      0.20      0.25      1097\n",
      "        male       0.00      0.00      0.00       947\n",
      "     unknown       0.01      0.68      0.01        22\n",
      "\n",
      "    accuracy                           0.09      2786\n",
      "   macro avg       0.08      0.22      0.07      2786\n",
      "weighted avg       0.13      0.09      0.10      2786\n",
      "\n"
     ]
    },
    {
     "name": "stderr",
     "output_type": "stream",
     "text": [
      "C:\\Users\\Anu\\anaconda3\\lib\\site-packages\\sklearn\\metrics\\_classification.py:1245: UndefinedMetricWarning: Precision and F-score are ill-defined and being set to 0.0 in labels with no predicted samples. Use `zero_division` parameter to control this behavior.\n",
      "  _warn_prf(average, modifier, msg_start, len(result))\n",
      "C:\\Users\\Anu\\anaconda3\\lib\\site-packages\\sklearn\\metrics\\_classification.py:1245: UndefinedMetricWarning: Precision and F-score are ill-defined and being set to 0.0 in labels with no predicted samples. Use `zero_division` parameter to control this behavior.\n",
      "  _warn_prf(average, modifier, msg_start, len(result))\n",
      "C:\\Users\\Anu\\anaconda3\\lib\\site-packages\\sklearn\\metrics\\_classification.py:1245: UndefinedMetricWarning: Precision and F-score are ill-defined and being set to 0.0 in labels with no predicted samples. Use `zero_division` parameter to control this behavior.\n",
      "  _warn_prf(average, modifier, msg_start, len(result))\n"
     ]
    }
   ],
   "source": [
    "print(classification_report(y_test, target_pred_bern))"
   ]
  },
  {
   "cell_type": "code",
   "execution_count": 53,
   "id": "2bb0d653",
   "metadata": {},
   "outputs": [
    {
     "data": {
      "text/plain": [
       "35.57"
      ]
     },
     "execution_count": 53,
     "metadata": {},
     "output_type": "execute_result"
    }
   ],
   "source": [
    "from sklearn.naive_bayes import  ComplementNB\n",
    "Complement = ComplementNB()\n",
    "Complement.fit(x_train, y_train)\n",
    "target_pred_comp =  Complement.predict(x_test)\n",
    "Complement_acc = round(Complement.score(x_train, y_train) * 100, 2)\n",
    "Complement_acc"
   ]
  },
  {
   "cell_type": "code",
   "execution_count": 54,
   "id": "e049237b",
   "metadata": {},
   "outputs": [
    {
     "data": {
      "text/plain": [
       "<AxesSubplot:>"
      ]
     },
     "execution_count": 54,
     "metadata": {},
     "output_type": "execute_result"
    },
    {
     "data": {
      "image/png": "[encoded data removed]",
      "text/plain": [
       "<Figure size 432x288 with 1 Axes>"
      ]
     },
     "metadata": {
      "needs_background": "light"
     },
     "output_type": "display_data"
    }
   ],
   "source": [
    "from sklearn.metrics import confusion_matrix\n",
    "matrix_confusion = confusion_matrix(y_test,target_pred_comp )\n",
    "sns.heatmap(matrix_confusion, square=True, annot=True, cmap='RdYlGn', fmt='d', cbar=False)"
   ]
  },
  {
   "cell_type": "code",
   "execution_count": 55,
   "id": "8361d53a",
   "metadata": {},
   "outputs": [
    {
     "name": "stdout",
     "output_type": "stream",
     "text": [
      "              precision    recall  f1-score   support\n",
      "\n",
      "       brand       0.00      0.00      0.00       720\n",
      "      female       0.39      0.84      0.53      1097\n",
      "        male       0.31      0.15      0.20       947\n",
      "     unknown       0.00      0.00      0.00        22\n",
      "\n",
      "    accuracy                           0.38      2786\n",
      "   macro avg       0.18      0.25      0.18      2786\n",
      "weighted avg       0.26      0.38      0.28      2786\n",
      "\n"
     ]
    },
    {
     "name": "stderr",
     "output_type": "stream",
     "text": [
      "C:\\Users\\Anu\\anaconda3\\lib\\site-packages\\sklearn\\metrics\\_classification.py:1245: UndefinedMetricWarning: Precision and F-score are ill-defined and being set to 0.0 in labels with no predicted samples. Use `zero_division` parameter to control this behavior.\n",
      "  _warn_prf(average, modifier, msg_start, len(result))\n",
      "C:\\Users\\Anu\\anaconda3\\lib\\site-packages\\sklearn\\metrics\\_classification.py:1245: UndefinedMetricWarning: Precision and F-score are ill-defined and being set to 0.0 in labels with no predicted samples. Use `zero_division` parameter to control this behavior.\n",
      "  _warn_prf(average, modifier, msg_start, len(result))\n",
      "C:\\Users\\Anu\\anaconda3\\lib\\site-packages\\sklearn\\metrics\\_classification.py:1245: UndefinedMetricWarning: Precision and F-score are ill-defined and being set to 0.0 in labels with no predicted samples. Use `zero_division` parameter to control this behavior.\n",
      "  _warn_prf(average, modifier, msg_start, len(result))\n"
     ]
    }
   ],
   "source": [
    "print(classification_report(y_test, target_pred_comp))"
   ]
  },
  {
   "cell_type": "code",
   "execution_count": 56,
   "id": "a65997d8",
   "metadata": {},
   "outputs": [
    {
     "ename": "ValueError",
     "evalue": "Negative values in data passed to CategoricalNB (input X)",
     "output_type": "error",
     "traceback": [
      "\u001b[1;31m---------------------------------------------------------------------------\u001b[0m",
      "\u001b[1;31mValueError\u001b[0m                                Traceback (most recent call last)",
      "\u001b[1;32m<ipython-input-56-c242fe25fa35>\u001b[0m in \u001b[0;36m<module>\u001b[1;34m\u001b[0m\n\u001b[0;32m      2\u001b[0m \u001b[0mCategorical\u001b[0m \u001b[1;33m=\u001b[0m \u001b[0mCategoricalNB\u001b[0m\u001b[1;33m(\u001b[0m\u001b[1;33m)\u001b[0m\u001b[1;33m\u001b[0m\u001b[1;33m\u001b[0m\u001b[0m\n\u001b[0;32m      3\u001b[0m \u001b[0mCategorical\u001b[0m\u001b[1;33m.\u001b[0m\u001b[0mfit\u001b[0m\u001b[1;33m(\u001b[0m\u001b[0mx_train\u001b[0m\u001b[1;33m,\u001b[0m \u001b[0my_train\u001b[0m\u001b[1;33m)\u001b[0m\u001b[1;33m\u001b[0m\u001b[1;33m\u001b[0m\u001b[0m\n\u001b[1;32m----> 4\u001b[1;33m \u001b[0mtarget_pred_cate\u001b[0m \u001b[1;33m=\u001b[0m  \u001b[0mCategorical\u001b[0m\u001b[1;33m.\u001b[0m\u001b[0mpredict\u001b[0m\u001b[1;33m(\u001b[0m\u001b[0mx_test\u001b[0m\u001b[1;33m)\u001b[0m\u001b[1;33m\u001b[0m\u001b[1;33m\u001b[0m\u001b[0m\n\u001b[0m\u001b[0;32m      5\u001b[0m \u001b[0mCategorical_acc\u001b[0m \u001b[1;33m=\u001b[0m \u001b[0mround\u001b[0m\u001b[1;33m(\u001b[0m\u001b[0mCategorical\u001b[0m\u001b[1;33m.\u001b[0m\u001b[0mscore\u001b[0m\u001b[1;33m(\u001b[0m\u001b[0mx_train\u001b[0m\u001b[1;33m,\u001b[0m \u001b[0my_train\u001b[0m\u001b[1;33m)\u001b[0m \u001b[1;33m*\u001b[0m \u001b[1;36m100\u001b[0m\u001b[1;33m,\u001b[0m \u001b[1;36m2\u001b[0m\u001b[1;33m)\u001b[0m\u001b[1;33m\u001b[0m\u001b[1;33m\u001b[0m\u001b[0m\n\u001b[0;32m      6\u001b[0m \u001b[0mCategorical_acc\u001b[0m\u001b[1;33m\u001b[0m\u001b[1;33m\u001b[0m\u001b[0m\n",
      "\u001b[1;32m~\\anaconda3\\lib\\site-packages\\sklearn\\naive_bayes.py\u001b[0m in \u001b[0;36mpredict\u001b[1;34m(self, X)\u001b[0m\n\u001b[0;32m     72\u001b[0m         \"\"\"\n\u001b[0;32m     73\u001b[0m         \u001b[0mcheck_is_fitted\u001b[0m\u001b[1;33m(\u001b[0m\u001b[0mself\u001b[0m\u001b[1;33m)\u001b[0m\u001b[1;33m\u001b[0m\u001b[1;33m\u001b[0m\u001b[0m\n\u001b[1;32m---> 74\u001b[1;33m         \u001b[0mX\u001b[0m \u001b[1;33m=\u001b[0m \u001b[0mself\u001b[0m\u001b[1;33m.\u001b[0m\u001b[0m_check_X\u001b[0m\u001b[1;33m(\u001b[0m\u001b[0mX\u001b[0m\u001b[1;33m)\u001b[0m\u001b[1;33m\u001b[0m\u001b[1;33m\u001b[0m\u001b[0m\n\u001b[0m\u001b[0;32m     75\u001b[0m         \u001b[0mjll\u001b[0m \u001b[1;33m=\u001b[0m \u001b[0mself\u001b[0m\u001b[1;33m.\u001b[0m\u001b[0m_joint_log_likelihood\u001b[0m\u001b[1;33m(\u001b[0m\u001b[0mX\u001b[0m\u001b[1;33m)\u001b[0m\u001b[1;33m\u001b[0m\u001b[1;33m\u001b[0m\u001b[0m\n\u001b[0;32m     76\u001b[0m         \u001b[1;32mreturn\u001b[0m \u001b[0mself\u001b[0m\u001b[1;33m.\u001b[0m\u001b[0mclasses_\u001b[0m\u001b[1;33m[\u001b[0m\u001b[0mnp\u001b[0m\u001b[1;33m.\u001b[0m\u001b[0margmax\u001b[0m\u001b[1;33m(\u001b[0m\u001b[0mjll\u001b[0m\u001b[1;33m,\u001b[0m \u001b[0maxis\u001b[0m\u001b[1;33m=\u001b[0m\u001b[1;36m1\u001b[0m\u001b[1;33m)\u001b[0m\u001b[1;33m]\u001b[0m\u001b[1;33m\u001b[0m\u001b[1;33m\u001b[0m\u001b[0m\n",
      "\u001b[1;32m~\\anaconda3\\lib\\site-packages\\sklearn\\naive_bayes.py\u001b[0m in \u001b[0;36m_check_X\u001b[1;34m(self, X)\u001b[0m\n\u001b[0;32m   1216\u001b[0m         X = check_array(X, dtype='int', accept_sparse=False,\n\u001b[0;32m   1217\u001b[0m                         force_all_finite=True)\n\u001b[1;32m-> 1218\u001b[1;33m         \u001b[0mcheck_non_negative\u001b[0m\u001b[1;33m(\u001b[0m\u001b[0mX\u001b[0m\u001b[1;33m,\u001b[0m \u001b[1;34m\"CategoricalNB (input X)\"\u001b[0m\u001b[1;33m)\u001b[0m\u001b[1;33m\u001b[0m\u001b[1;33m\u001b[0m\u001b[0m\n\u001b[0m\u001b[0;32m   1219\u001b[0m         \u001b[1;32mreturn\u001b[0m \u001b[0mX\u001b[0m\u001b[1;33m\u001b[0m\u001b[1;33m\u001b[0m\u001b[0m\n\u001b[0;32m   1220\u001b[0m \u001b[1;33m\u001b[0m\u001b[0m\n",
      "\u001b[1;32m~\\anaconda3\\lib\\site-packages\\sklearn\\utils\\validation.py\u001b[0m in \u001b[0;36mcheck_non_negative\u001b[1;34m(X, whom)\u001b[0m\n\u001b[0;32m   1066\u001b[0m \u001b[1;33m\u001b[0m\u001b[0m\n\u001b[0;32m   1067\u001b[0m     \u001b[1;32mif\u001b[0m \u001b[0mX_min\u001b[0m \u001b[1;33m<\u001b[0m \u001b[1;36m0\u001b[0m\u001b[1;33m:\u001b[0m\u001b[1;33m\u001b[0m\u001b[1;33m\u001b[0m\u001b[0m\n\u001b[1;32m-> 1068\u001b[1;33m         \u001b[1;32mraise\u001b[0m \u001b[0mValueError\u001b[0m\u001b[1;33m(\u001b[0m\u001b[1;34m\"Negative values in data passed to %s\"\u001b[0m \u001b[1;33m%\u001b[0m \u001b[0mwhom\u001b[0m\u001b[1;33m)\u001b[0m\u001b[1;33m\u001b[0m\u001b[1;33m\u001b[0m\u001b[0m\n\u001b[0m\u001b[0;32m   1069\u001b[0m \u001b[1;33m\u001b[0m\u001b[0m\n\u001b[0;32m   1070\u001b[0m \u001b[1;33m\u001b[0m\u001b[0m\n",
      "\u001b[1;31mValueError\u001b[0m: Negative values in data passed to CategoricalNB (input X)"
     ]
    }
   ],
   "source": [
    "from sklearn.naive_bayes import  CategoricalNB\n",
    "Categorical = CategoricalNB()\n",
    "Categorical.fit(x_train, y_train)\n",
    "target_pred_cate =  Categorical.predict(x_test)\n",
    "Categorical_acc = round(Categorical.score(x_train, y_train) * 100, 2)\n",
    "Categorical_acc"
   ]
  },
  {
   "cell_type": "code",
   "execution_count": 57,
   "id": "9f95ccdb",
   "metadata": {},
   "outputs": [
    {
     "data": {
      "text/plain": [
       "<AxesSubplot:>"
      ]
     },
     "execution_count": 57,
     "metadata": {},
     "output_type": "execute_result"
    },
    {
     "data": {
      "image/png": "[encoded data removed]",
      "text/plain": [
       "<Figure size 720x720 with 1 Axes>"
      ]
     },
     "metadata": {
      "needs_background": "light"
     },
     "output_type": "display_data"
    }
   ],
   "source": [
    "dataset[\"gender\"].hist(figsize = (10,10))"
   ]
  },
  {
   "cell_type": "code",
   "execution_count": 58,
   "id": "a00f19f8",
   "metadata": {},
   "outputs": [
    {
     "data": {
      "text/plain": [
       "<AxesSubplot:ylabel='None'>"
      ]
     },
     "execution_count": 58,
     "metadata": {},
     "output_type": "execute_result"
    },
    {
     "data": {
      "image/png": "[encoded data removed]",
      "text/plain": [
       "<Figure size 432x288 with 1 Axes>"
      ]
     },
     "metadata": {},
     "output_type": "display_data"
    }
   ],
   "source": [
    "dataset.groupby('gender').size().plot(kind='pie', autopct='%.2f')"
   ]
  },
  {
   "cell_type": "code",
   "execution_count": null,
   "id": "d7174bac",
   "metadata": {},
   "outputs": [],
   "source": []
  }
 ],
 "metadata": {
  "kernelspec": {
   "display_name": "Python 3",
   "language": "python",
   "name": "python3"
  },
  "language_info": {
   "codemirror_mode": {
    "name": "ipython",
    "version": 3
   },
   "file_extension": ".py",
   "mimetype": "text/x-python",
   "name": "python",
   "nbconvert_exporter": "python",
   "pygments_lexer": "ipython3",
   "version": "3.8.8"
  }
 },
 "nbformat": 4,
 "nbformat_minor": 5
}
